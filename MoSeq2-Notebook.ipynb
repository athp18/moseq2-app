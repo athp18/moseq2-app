{
 "cells": [
  {
   "cell_type": "markdown",
   "metadata": {},
   "source": [
    "# Welcome to MoSeq2-Notebook\n",
    "\n",
    "### Run all of the MoSeq2 tools in a self-contained notebook.\n",
    "\n",
    "### First time here? Read the [README](https://github.com/dattalab/moseq2-app/blob/jupyter/README.md)!!"
   ]
  },
  {
   "cell_type": "markdown",
   "metadata": {},
   "source": [
    "***\n",
    "<center><h1>MoSeq2 Introduction</h1></center>\n",
    "\n",
    "***\n",
    "\n",
    "<img src=\"https://drive.google.com/uc?export=view&id=1Cps4eniKXpoKwSjFGC4R7S1JSeG4bVJg\">\n"
   ]
  },
  {
   "cell_type": "markdown",
   "metadata": {},
   "source": [
    "MoSeq2 software toolkit for unsupervised characterization of animal behavior. Moseq takes depth recordings of single behaving animals as input, and outputs a rich labeling of postural dynamics in terms of reused motifs or 'syllables'. \n",
    "\n",
    "This notebook begins with compressed depth recordings (see 'Data Acquisiting Overview' below) and transforms this data through the steps of:\n",
    "- **Extraction**: The animal is segmented from the background and its position and heading direction are aligned across frames.\n",
    "- **Dimensionality reduction**: Raw video is de-noised and transformed to low-dimensional pose trajectories using principal component analysis (PCA).\n",
    "- **Model training**: Pose trajectories are modeled using an autoregressive hidden Markov model (AR-HMM), producing a sequence of syllable labels.\n",
    "- **Analysis**: Model output is reported through visualization and statistical analysis."
   ]
  },
  {
   "cell_type": "markdown",
   "metadata": {},
   "source": [
    "### Resources\n",
    "Below are a list of publications and links to the individual github tool wikis for your convenience.\n",
    "- Publications\n",
    "    - [Mapping Sub-Second Structure in Mouse Behavior](http://datta.hms.harvard.edu/wp-content/uploads/2018/01/pub_23.pdf)\n",
    "    - [The Striatum Organizes 3D Behavior via Moment-to-Moment Action Selection](http://datta.hms.harvard.edu/wp-content/uploads/2019/06/Markowitz.final_.pdf)\n",
    "    - [Q&A: Understanding the composition of behavior](http://datta.hms.harvard.edu/wp-content/uploads/2019/06/Datta-QA.pdf)\n",
    "- Wikis\n",
    "    - [Extract](https://github.com/dattalab/moseq2-extract/wiki)\n",
    "    - [PCA](https://github.com/dattalab/moseq2-pca/wiki)\n",
    "    - [Model](https://github.com/dattalab/moseq2-model/wiki)\n",
    "    - [Viz](https://github.com/dattalab/moseq2-viz/wiki)"
   ]
  },
  {
   "cell_type": "markdown",
   "metadata": {},
   "source": [
    "## Data Acquisition Overview"
   ]
  },
  {
   "cell_type": "markdown",
   "metadata": {},
   "source": [
    "Moseq2 takes animal depth recordings as input. We we have developed a [data acquisition pipeline](https://github.com/dattalab/moseq2-docs/wiki/Setup:-acquisition-software) for the Xbox Kinect depth camera. We suggest following our [data acquisiting tutorial](https://github.com/dattalab/moseq2-docs/wiki/Acquisition) for doing recordings. \n",
    "\n",
    "__It is recommended that MoSeq2 users collect over 10 hours of depth videos (nframes >= ~1 million frames) for the best analysis results.__\n",
    "\n",
    "***"
   ]
  },
  {
   "cell_type": "markdown",
   "metadata": {},
   "source": [
    "***\n",
    "<center><h1>Notebook Setup</h1></center>\n",
    "\n",
    "***"
   ]
  },
  {
   "cell_type": "markdown",
   "metadata": {},
   "source": [
    "<img src=\"https://drive.google.com/uc?export=view&id=1Rs-LYyYIHueyE3x60dKk_fTtNMkCzqSb\">"
   ]
  },
  {
   "cell_type": "markdown",
   "metadata": {},
   "source": [
    "### Check if the correct anaconda environment is being used\n",
    "\n",
    "This jupyter notebook must be launched from an activated conda environment.\n",
    "\n",
    "If the anaconda environment is called moseq2, then the output would look like: ```/Users/username/anaconda3/envs/moseq2/bin/python```"
   ]
  },
  {
   "cell_type": "code",
   "execution_count": null,
   "metadata": {},
   "outputs": [],
   "source": [
    "%%bash\n",
    "which python # [Shift + ENTER] -> run cell"
   ]
  },
  {
   "cell_type": "markdown",
   "metadata": {},
   "source": [
    "### Data file organization"
   ]
  },
  {
   "cell_type": "markdown",
   "metadata": {},
   "source": [
    "After performing data acquisition, store all of your session folders under a parent directory (shown below) to access them in this notebook.\n",
    "\n",
    "```\n",
    ".\n",
    "└── Data_Directory/\n",
    "    ├── session_1/ **\n",
    "    ├   ├── depth.dat        # depth data\n",
    "    ├   ├── depth_ts.txt     # timestamps\n",
    "    ├   └── metadata.json    # metadata\n",
    "    ...\n",
    "    ├── session_2/ **\n",
    "    ├   ├── depth.dat\n",
    "    ├   ├── depth_ts.txt\n",
    "    └── └── metadata.json\n",
    "\n",
    "```"
   ]
  },
  {
   "cell_type": "markdown",
   "metadata": {},
   "source": [
    "### Notebook Progress File\n",
    "\n",
    "In case that your notebook kernel is interrupted, crashes, etc. The MoSeq2-Notebook comes with a progress file that will store all of your variables within each session in case you need to restore them at a later time (without performing all the computations again).\n",
    "\n",
    "__To restore previously computed variables, run any of the cells titled \"Convenience Cell\".__"
   ]
  },
  {
   "cell_type": "markdown",
   "metadata": {},
   "source": [
    "## Find Your Recording Directories and Create The Progress File"
   ]
  },
  {
   "cell_type": "markdown",
   "metadata": {},
   "source": [
    "Input the absolute path to your desired parent directory containing your recorded session subdirectories in the path variable in the cell below.\n",
    "\n",
    "__Input the absolute path to your parent directory in `data_path` variable to find your sessions. To obtain your avsolute path, you can run `pwd` in your bash terminal in your desired directory.__"
   ]
  },
  {
   "cell_type": "code",
   "execution_count": null,
   "metadata": {},
   "outputs": [],
   "source": [
    "from moseq2_extract.gui import get_found_sessions, restore_progress_vars, check_progress\n",
    "from glob import glob\n",
    "import ruamel.yaml as yaml\n",
    "import os, sys\n",
    "\n",
    "data_path = '/Users/aymanzeine/Desktop/Playground/recordings/' # User-defined absolute path\n",
    "\n",
    "base_dir, found_sessions = get_found_sessions(data_path)\n",
    "progress_filepath = os.path.join(base_dir, 'progress.yaml')\n",
    "\n",
    "print('Number of found sessions to analyze:', found_sessions)\n",
    "print('Your base directory is:', base_dir)\n",
    "\n",
    "\n",
    "config_filepath, index_filepath, train_data_dir, pca_dirname, \\\n",
    "            scores_filename, model_path, scores_file, \\\n",
    "            crowd_dir, plot_path = check_progress(base_dir, progress_filepath)"
   ]
  },
  {
   "cell_type": "markdown",
   "metadata": {},
   "source": [
    "### Generate Configuration Files"
   ]
  },
  {
   "cell_type": "code",
   "execution_count": null,
   "metadata": {},
   "outputs": [],
   "source": [
    "import os\n",
    "from moseq2_extract.gui import generate_config_command, update_progress\n",
    "\n",
    "config_filepath = os.path.join(base_dir, 'config.yaml')\n",
    "\n",
    "print(f'generating file in path: {config_filepath}')\n",
    "update_progress(progress_filepath, 'config_file', config_filepath)\n",
    "generate_config_command(config_filepath)"
   ]
  },
  {
   "cell_type": "markdown",
   "metadata": {},
   "source": [
    "A configuration file has been created in the base directory (depicted below).\n",
    "\n",
    "```\n",
    ".\n",
    "└── Data_Directory/\n",
    "    ├── config.yaml **\n",
    "    ├── session_1/ \n",
    "    ├   ├── depth.dat        \n",
    "    ├   ├── depth_ts.txt     \n",
    "    ├   └── metadata.json    \n",
    "    ...\n",
    "    ├── session_2/ \n",
    "    ├   ├── depth.dat\n",
    "    ├   ├── depth_ts.txt\n",
    "    └── └── metadata.json\n",
    "```"
   ]
  },
  {
   "cell_type": "markdown",
   "metadata": {},
   "source": [
    "### Download a Flip File"
   ]
  },
  {
   "cell_type": "markdown",
   "metadata": {},
   "source": [
    "In order to ensure your extraction is smooth and invariant to the mouse's orientation, we recommend using a flip-classifier to aid keeping the mouse oriented throughout the extraction.\n",
    "Note: MoSeq2-Notebook currently only supports flip correction for Adult male c57 mice. (You may skip this step if your mice are very different)"
   ]
  },
  {
   "cell_type": "code",
   "execution_count": null,
   "metadata": {},
   "outputs": [],
   "source": [
    "from moseq2_extract.gui import download_flip_command\n",
    "\n",
    "download_flip_command(base_dir, config_filepath)"
   ]
  },
  {
   "cell_type": "markdown",
   "metadata": {},
   "source": [
    "***\n",
    "<center><h1>Raw Data Extraction</h1></center>\n",
    "\n",
    "***"
   ]
  },
  {
   "cell_type": "markdown",
   "metadata": {},
   "source": [
    "You will use the MoSeq2-Extract module to convert your raw data files to human-readable/parseable formats such as mp4 videos, and YAML/HDF5 metadata files. These metadata files are used to then train your PCA model, while the mp4 file is primarily used to ensure that the session was extracted correctly with no defects or unwanted artifacts."
   ]
  },
  {
   "cell_type": "markdown",
   "metadata": {},
   "source": [
    "In the extraction step, begin by testing your detected ROIs with the default parameters. If your arena has been correctly detected, continue into the to the test extraction step.\n",
    "\n",
    "The first two steps are meant to debug possible extraction errors you may encounter before performing an extraction on your full dataset.\n",
    "\n",
    "This step is important because it will determine the integrity of your data going into the analysis steps. If the resulting extraction contains artifacts, or is too noisy, etc. the PCA and ARHMM modeling results will not be reliable.\n",
    "\n",
    "Once testing is done, you can then proceed to extract all the session files found by your notebook.\n",
    "\n",
    "<img src=\"https://drive.google.com/uc?export=view&id=1YBBpvLTq8xc6wzvQqrenGA9B6a01SH4L\">"
   ]
  },
  {
   "cell_type": "markdown",
   "metadata": {},
   "source": [
    "## Pre-Extraction Data Quality Testing"
   ]
  },
  {
   "cell_type": "markdown",
   "metadata": {},
   "source": [
    "Before performing a full extraction on your recordings, ensure your Regions of Interest (ROIs) are properly found, and your Sample Extraction is satisfactory. This will bring more clarity as to what to expect after a complete extraction of your data."
   ]
  },
  {
   "cell_type": "markdown",
   "metadata": {},
   "source": [
    "## ROI Test"
   ]
  },
  {
   "cell_type": "markdown",
   "metadata": {},
   "source": [
    "This test ensures that your whole background area is properly captured without any artifacts that may interfere with the mouse video extraction. \n",
    "\n",
    "If your ROIs are not computed correctly, refer to the ROI pathologies below."
   ]
  },
  {
   "cell_type": "code",
   "execution_count": null,
   "metadata": {},
   "outputs": [],
   "source": [
    "import ruamel.yaml as yaml\n",
    "from moseq2_extract.gui import find_roi_command\n",
    "\n",
    "with open(config_filepath, 'r') as f:\n",
    "    config_data = yaml.safe_load(f)\n",
    "f.close()\n",
    "\n",
    "# Relevant ROI parameters you may need to configure\n",
    "config_data['bg_roi_dilate'] = (10, 10) # the detected floor mask dilation kernel size (width, height)\n",
    "config_data['bg_roi_depth_range'] = (650, 750) # the min/max depth heights to search for floor of arena (in mm)\n",
    "config_data['bg_roi_gradient_threshold'] = 3000 # threshold value to decide which areas to include in the bg roi\n",
    "\n",
    "with open(config_filepath, 'w') as f:\n",
    "    yaml.safe_dump(config_data, f)\n",
    "f.close()\n",
    "\n",
    "rois_dir = find_roi_command(base_dir, config_filepath)"
   ]
  },
  {
   "cell_type": "markdown",
   "metadata": {},
   "source": [
    "Once complete, you can expect the following directory structure:\n",
    "\n",
    "```\n",
    ".\n",
    "└── Data_Directory/\n",
    "    ├── config.yaml \n",
    "    ├── session_1/ \n",
    "    ├   ├── proc/ **\n",
    "    ├   ├   ├── bground.png & bground.tiff **\n",
    "    ├   ├   ├── first_frame.png & first_frame.tiff **\n",
    "    ├   ├   └── roi.png & roi.tiff ** \n",
    "    ├   ├── depth.dat        \n",
    "    ├   ├── depth_ts.txt     \n",
    "    ├   └── metadata.json    \n",
    "    ...\n",
    "    └── session_2/ \n",
    "```"
   ]
  },
  {
   "cell_type": "markdown",
   "metadata": {},
   "source": [
    "Display your calculated ROI images below:"
   ]
  },
  {
   "cell_type": "code",
   "execution_count": null,
   "metadata": {
    "scrolled": true
   },
   "outputs": [],
   "source": [
    "from IPython.display import display, Image\n",
    "from glob import glob\n",
    "\n",
    "images = glob(os.path.join(rois_dir, '*.png'))\n",
    "ims = [Image(im) for im in images]\n",
    "for im, ip in zip(ims,images):\n",
    "    print(ip.split('/')[-1])\n",
    "    display(im)"
   ]
  },
  {
   "cell_type": "markdown",
   "metadata": {},
   "source": [
    "### Possible ROI Pathologies"
   ]
  },
  {
   "cell_type": "markdown",
   "metadata": {},
   "source": [
    "<table style=\"width: 100%;\">\n",
    "  <tbody>\n",
    "    <tr style=\"width: 100%;\">\n",
    "      <th></th>\n",
    "      <th style=\"text-align:center;\">Good ROI Examples</th>\n",
    "      <th style=\"text-align:center;\">Bad ROI Example</th>\n",
    "      <th style=\"text-align:center;\">Bad Arena Detection Example</th>\n",
    "    </tr>  \n",
    "    <tr>\n",
    "      <th style=\"text-align:center;\">Pathology Description</th>\n",
    "      <td></td>\n",
    "      <td style=\"text-align:center;\">Resulting background ROI contains holes, or walls are not crisp/well defined.</td>\n",
    "      <td style=\"text-align:center;\">Arena is not defined at all in roi.png.</td>\n",
    "    </tr>\n",
    "    <tr>\n",
    "      <th style=\"text-align:center;\">Reference Examples</th>\n",
    "      <td>\n",
    "          <img src=\"https://drive.google.com/uc?export=view&id=1igDMX4nVpbbAd3ntr41gPKN7iKC7Q8gR\" width=350 height=350><br><br>\n",
    "          <img src=\"https://drive.google.com/uc?export=view&id=1w21Di6TsRg-Hgbd2PCwIU_kyrvGuajar\" width=350 height=350>\n",
    "        </td>\n",
    "      <td>\n",
    "         <img src=\"https://drive.google.com/uc?export=view&id=1gI_WZoQWpayoESj3FDwSpZ3zN5SI8rRt\" width=350 height=350>\n",
    "        </td>\n",
    "      <td>\n",
    "          <img src=\"https://drive.google.com/uc?export=view&id=1oGVi9rIWwkCxth0x8S2VNOatMCqMbKRm\" width=350 height=350>\n",
    "        </td>\n",
    "    </tr>\n",
    "    <tr>\n",
    "      <th style=\"text-align:center;\">Image Analysis Solutions</th>\n",
    "      <td style=\"text-align:center;\"></td> <!-- G -->\n",
    "      <td>\n",
    "        <ul>\n",
    "          <li style=\"text-align:left;\">If the walls are not being captured correctly, or there are holes in the background, try slightly  decreasing the background gradient threshold (by increments of [50-100]) to try to capture more of the environment.</li>\n",
    "          <li style=\"text-align:left;\">Try adjusting the background dilation parameter to a larger kernel in the case of an incomplete background, and smaller in the case of ROIs with holes in the arena background.</li>\n",
    "        </ul>\n",
    "      </td>\n",
    "      <td>\n",
    "          <ul>\n",
    "              <li style=\"text-align:left;\">Check the Detected True Depth during sample extraction, round down the value to the next increment of 50 for the minimum range value, and add either 100 or the height of the arena walls to the minimum for the maximum value. \n",
    "              <li style=\"text-align:left;\">E.g. If DTD = 623, then bg_roi_depth_range = (600, 700). </li>\n",
    "          </ul>\n",
    "    </td>\n",
    "    </tr>\n",
    "  </tbody>\n",
    "</table>"
   ]
  },
  {
   "cell_type": "markdown",
   "metadata": {},
   "source": [
    "## Sample Test Extraction \n",
    "\n",
    "Next, test whether the mouse is segmented from the arena and oriented correctly during the extraction process. The extracted version of the mouse will appear on the top left-hand corner of the generated video. \n",
    "\n",
    "If the mouse is consistently facing rightward, then the extraction test is successful and you can proceed to extract your dataset with the set parameters. Otherwise, refer to the extractions pathologies below."
   ]
  },
  {
   "cell_type": "code",
   "execution_count": null,
   "metadata": {},
   "outputs": [],
   "source": [
    "import ruamel.yaml as yaml\n",
    "from moseq2_extract.gui import sample_extract_command\n",
    "\n",
    "nframes = 600 # number of frames to extract from raw to preview\n",
    "\n",
    "with open(config_filepath, 'r') as f:\n",
    "    config_data = yaml.safe_load(f)\n",
    "f.close()\n",
    "\n",
    "# Extraction parameters you may need to configure\n",
    "config_data['min_height'] = 10 # Min mouse height from floor (mm)\n",
    "config_data['max_height'] = 100 # Max mouse height from floor (mm)\n",
    "config_data['spatial_filter_size'] = [3] # Space prefilter kernel (median filter, must be odd)\n",
    "config_data['temporal_filter_size'] = [0] # Time prefilter kernel (median filter, must be odd)\n",
    "\n",
    "with open(config_filepath, 'w') as f:\n",
    "    yaml.safe_dump(config_data, f)\n",
    "f.close()\n",
    "\n",
    "sample_ext_dir = sample_extract_command(base_dir, config_filepath, nframes)"
   ]
  },
  {
   "cell_type": "markdown",
   "metadata": {},
   "source": [
    "After an extraction, you can expect the following directory structure:\n",
    "\n",
    "```\n",
    ".\n",
    "├── config.yaml\n",
    "├── session_1/\n",
    "├   ├── sample_proc/ **\n",
    "├   ├   ├── bground.png & bground.tiff **\n",
    "├   ├   ├── first_frame.png & first_frame.tiff **\n",
    "├   ├   ├── results_00.mp4 **\n",
    "├   ├   ├── results_00.h5 **\n",
    "├   ├   ├── results_00.yaml **\n",
    "├   ├   └── roi.png & roi.tiff ** \n",
    "├   ├── depth.dat\n",
    "├   ├── depth_ts.txt\n",
    "├   └── metadata.json\n",
    "└── session_2/\n",
    "```"
   ]
  },
  {
   "cell_type": "markdown",
   "metadata": {},
   "source": [
    "You can view your sample extraction below:"
   ]
  },
  {
   "cell_type": "code",
   "execution_count": null,
   "metadata": {},
   "outputs": [],
   "source": [
    "from IPython.display import display, Video\n",
    "\n",
    "vid = Video(os.path.join(sample_ext_dir, 'results_00.mp4'), embed=True)\n",
    "\n",
    "display(vid)"
   ]
  },
  {
   "cell_type": "markdown",
   "metadata": {},
   "source": [
    "### Possible Extraction Pathologies"
   ]
  },
  {
   "cell_type": "markdown",
   "metadata": {},
   "source": [
    "<table style=\"width: 100%;\">\n",
    "  <tbody>\n",
    "    <tr>\n",
    "      <th></th>\n",
    "      <th style=\"text-align:center;\">Good Extraction Example</th>\n",
    "      <th style=\"text-align:center;\">Bad; Grainy Extraction Example</th>\n",
    "      <th style=\"text-align:center;\">Bad; Incorrect Mouse Orientation and Jitter Example</th>\n",
    "    </tr>  \n",
    "    <tr>\n",
    "      <th style=\"text-align:center;\">Pathology Description</th>\n",
    "      <td style=\"text-align:center;\"></td>\n",
    "      <td style=\"text-align:left;\">The resulting video is too grainy; wall boundaries are too noisy, extracted mouse boundaries are not well defined, etc.</td>\n",
    "      <td style=\"text-align:left;\">Extracted mouse orientation and centroid is not consistently correct. (Mouse is facing wrong direction and jittery)</td>\n",
    "    </tr>\n",
    "    <tr>\n",
    "      <th style=\"text-align:center;\">Reference Examples</th>\n",
    "      <td><img src=\"https://drive.google.com/uc?export=view&id=1qg_twPau5g0hWpvnGUQzl_7_XdSSsL1c\" width=350 height=350></td>\n",
    "      <td>\n",
    "          <img src=\"https://drive.google.com/uc?export=view&id=1gjwJpDqcsORwypXU-2UjigxcbrGl2RZ-\" width=350 height=350>\n",
    "        </td>\n",
    "      <td>\n",
    "          <img src=\"https://drive.google.com/uc?export=view&id=1VNmUSFN7-_JnUXmQF65wxwA19CUS3Wem\" width=350 height=350>\n",
    "        </td>\n",
    "    </tr>\n",
    "    <tr>\n",
    "      <th style=\"text-align:center;\">Filtering Solutions</th>\n",
    "      <td style=\"text-align:center;\"></td> <!-- G -->\n",
    "      <td>\n",
    "        <ul>\n",
    "          <li style=\"text-align:left;\">Increase the spatial kernel size by increments of 1 until the mouse is crisp. (Beware of oversmoothing.)\n",
    "          </li>\n",
    "          <li style=\"text-align:left;\">Decreasing any applied temporal filtering is also recommended. However, note that there is a balance of temporal and spatial filtering to achieve a good extraction.</li>\n",
    "        </ul>\n",
    "      </td>\n",
    "      <td>\n",
    "          <ul>\n",
    "              <li style=\"text-align:left;\">Environmental noise can contribute to poor centroid analysis and flip detection. Ensure the arena is clear of static noise.</li>\n",
    "              <li style=\"text-align:left;\">Increasing temporal and spatial filtering kernel sizes helps keep the fitted ellipse consistent throughout the image processing, increasing orientation-flip precision.</li>\n",
    "          </ul>\n",
    "    </td>\n",
    "    </tr>\n",
    "    <tr> \n",
    "      <th style=\"text-align:center;\">General Solutions</th>\n",
    "      <td style=\"text-align:center;\"></td> <!-- G -->\n",
    "      <td style=\"text-align:left;\">Ensure that your inputted minimum and maximum mouse heights are similar to your recording conditions.</td>\n",
    "      <td style=\"text-align:left;\">Ensure your flip classifier path is found in your config.yaml file in order for it to be applied.</td> <!-- R -->\n",
    "    </tr>\n",
    "  </tbody>\n",
    "</table>"
   ]
  },
  {
   "cell_type": "markdown",
   "metadata": {},
   "source": [
    "***\n",
    "\n",
    "__Worst Case Scenario: A factor that can make a huge negative impact on the extraction is if the depth recording itself contains noise that may stem from your recording environment.__\n",
    "\n",
    "<center>Depth Recording Artifacts Example</center> |\n",
    "- |\n",
    "<img src=\"https://drive.google.com/uc?export=view&id=1xhB_wWLYYHfXnRslLWW_ptQPnFsBDdnk\" width=350 height=350> |\n",
    "\n",
    "Below is a list of possible environment factors that may lead to a poor/unusable extraction:\n",
    "- Bucket walls were not sanded down enough, or were not painted the correct non-reflective color, resulting in artifacts appearing in the depth video.\n",
    "- The room where the recording took place is too bright, letting in too much light in the bucket adding large amounts of static noise.\n",
    "- If this is the case with your recording, one option is to crop the video to a frame range that contains a good extraction, and using that going into your analysis step. Otherwise, collect more data in a less noisy environment.\n",
    "\n",
    "***"
   ]
  },
  {
   "cell_type": "markdown",
   "metadata": {},
   "source": [
    "## Extract Session(s)\n",
    "\n",
    "The cell will prompt you to choose whether you would like to extract individual sessions, or all of them. Enter your selection, and then wait for the extraction to complete to preview them."
   ]
  },
  {
   "cell_type": "code",
   "execution_count": null,
   "metadata": {
    "scrolled": true
   },
   "outputs": [],
   "source": [
    "from moseq2_extract.gui import extract_found_sessions\n",
    "\n",
    "# depth files to recursively search for that have been partially extracted or not yet extracted \n",
    "ext = '.dat'\n",
    "\n",
    "extract_found_sessions(base_dir, config_filepath, ext)"
   ]
  },
  {
   "cell_type": "markdown",
   "metadata": {},
   "source": [
    "This is what your directory structure should look like once the process is complete:\n",
    "\n",
    "```\n",
    ".\n",
    "├── config.yaml\n",
    "├── session_1/\n",
    "├   ...\n",
    "├   └── proc/ **\n",
    "├   ├   ├── roi.tiff\n",
    "├   ├   ...\n",
    "├   ├   ├── results.yaml+h5 ** (represents .h5 and .yaml files)\n",
    "├   └   └── results.mp4 ** (extracted video)\n",
    "└── session_2/\n",
    "├   ...\n",
    "├   └── proc/ **\n",
    "├   ├   ├── roi.tiff\n",
    "├   ├   ...\n",
    "├   ├   ├── results.yaml+h5 **\n",
    "└   └   └── results.mp4 **\n",
    "        \n",
    "```"
   ]
  },
  {
   "cell_type": "markdown",
   "metadata": {},
   "source": [
    "### Aggregate your results into one folder and generate an index file."
   ]
  },
  {
   "cell_type": "markdown",
   "metadata": {},
   "source": [
    "The following cell will search through your base directory for the `proc/` folders in each session, and copy them all in a single directory. \n",
    "\n",
    "Then it will generate the index file by searching for all the metadata found in the `results_00.h5`/`results_00.yaml` files, and consolidate all that information in one file, assigning each session to a `default` group."
   ]
  },
  {
   "cell_type": "code",
   "execution_count": null,
   "metadata": {},
   "outputs": [],
   "source": [
    "from moseq2_extract.gui import aggregate_extract_results_command, update_progress\n",
    "\n",
    "recording_format = '{start_time}_{session_name}_{subject_name}' # filename formats for the copied extracted data files\n",
    "\n",
    "# directory NAME to save all metadata+extracted videos to with above respective name format\n",
    "aggregate_results_dirname = 'aggregate_results/'\n",
    "\n",
    "train_data_dir = os.path.join(base_dir, aggregate_results_dirname)\n",
    "update_progress(progress_filepath, 'train_data_dir', train_data_dir)\n",
    "index_filepath = aggregate_extract_results_command(base_dir, recording_format, aggregate_results_dirname)\n",
    "update_progress(progress_filepath, 'index_file', index_filepath)"
   ]
  },
  {
   "cell_type": "markdown",
   "metadata": {},
   "source": [
    "The aggregate results folder will be saved in your base directory,\n",
    "resulting in the following directory (sample) structure where the base directory contains the notebook:\n",
    "\n",
    "```\n",
    ".\n",
    "├── aggregate_results/ **\n",
    "├   ├── session_1_results.h5+yaml ** # session 1 metadata \n",
    "├   ├── session_1_results.mp4 ** # session 1 extracted video\n",
    "├   ├── session_2_results.h5+yaml ** # session 2 metadata\n",
    "├   └── session_2_results.mp4 ** # session 2 extracted video\n",
    "├── config.yaml\n",
    "├── moseq2-index.yaml ** # index file\n",
    "├── session_1/\n",
    "└── session_2/\n",
    "```\n",
    "\n",
    "__Notice your index file has also been generated in your base directory.__"
   ]
  },
  {
   "cell_type": "markdown",
   "metadata": {},
   "source": [
    "View all of your extracted videos below:"
   ]
  },
  {
   "cell_type": "code",
   "execution_count": null,
   "metadata": {},
   "outputs": [],
   "source": [
    "from IPython.display import display, Video\n",
    "from glob import glob\n",
    "import os\n",
    "\n",
    "extractions = glob(os.path.join(base_dir, aggregate_results_dirname, '*.mp4'))\n",
    "vids = [Video(vid, embed=True) for vid in extractions]\n",
    "for vid, ext in zip(vids, extractions):\n",
    "    print(ext.split('/')[-1])\n",
    "    display(vid)"
   ]
  },
  {
   "cell_type": "markdown",
   "metadata": {},
   "source": [
    "***\n",
    "<center><h1>Principal Component Analysis (PCA)</h1></center>\n",
    "\n",
    "***"
   ]
  },
  {
   "cell_type": "markdown",
   "metadata": {},
   "source": [
    "Once the data has been extracted, compute Principal Components (PCs) of the data to perform dimensionality reduction on the data going into the modeling step.\n",
    "<img src=\"https://drive.google.com/uc?export=view&id=1I1WcfEwzpfwIxNYStX7swLAIvjQEVApy\">"
   ]
  },
  {
   "cell_type": "markdown",
   "metadata": {},
   "source": [
    "### (Convenience) Restore Progress Variables"
   ]
  },
  {
   "cell_type": "code",
   "execution_count": null,
   "metadata": {},
   "outputs": [],
   "source": [
    "import os\n",
    "from moseq2_extract.gui import restore_progress_vars\n",
    "\n",
    "base_dir = '/Users/aymanzeine/Desktop/Playground/recordings/' # User-defined absolute path\n",
    "\n",
    "progress_filepath = os.path.join(base_dir, 'progress.yaml')\n",
    "\n",
    "config_filepath, index_filepath, train_data_dir, pca_dirname, \\\n",
    "scores_filename, model_path, scores_file, \\\n",
    "crowd_dir, plot_path = restore_progress_vars(progress_filepath)"
   ]
  },
  {
   "cell_type": "markdown",
   "metadata": {},
   "source": [
    "## Training PCA"
   ]
  },
  {
   "cell_type": "code",
   "execution_count": null,
   "metadata": {},
   "outputs": [],
   "source": [
    "from moseq2_pca.gui import train_pca_command\n",
    "from moseq2_extract.gui import update_progress\n",
    "import ruamel.yaml as yaml\n",
    "import os \n",
    "\n",
    "pca_filename = 'pca' # Name of your PCA model h5 file to be saved\n",
    "pca_dirname = '_pca/' # Directory to save your computed PCA results\n",
    "\n",
    "with open(config_filepath, 'r') as f:\n",
    "    config_data = yaml.safe_load(f)\n",
    "f.close()\n",
    "\n",
    "# PCA parameters you may need to configure\n",
    "config_data['gaussfilter_space'] = (1.5, 1) # Spatial filter for data (Gaussian)\n",
    "config_data['medfilter_space'] = [0] # Median spatial filter\n",
    "config_data['medfilter_time'] = [0] # Median temporal filter\n",
    "config_data['missing_data'] = False # Set True for dataset with missing/dropped frames to reconstruct respective PCs.\n",
    "config_data['missing_data_iters'] = 10 # Number of times to iterate over missing data during PCA\n",
    "config_data['recon_pcs'] = 10 # Number of PCs to use for missing data reconstruction\n",
    "\n",
    "\n",
    "with open(config_filepath, 'w') as f:\n",
    "    yaml.safe_dump(config_data, f)\n",
    "f.close()\n",
    "\n",
    "update_progress(progress_filepath, 'pca_dirname', pca_dirname)\n",
    "\n",
    "# will train on data in aggregate_results/\n",
    "train_pca_command(train_data_dir, config_filepath, pca_dirname, pca_filename)"
   ]
  },
  {
   "cell_type": "markdown",
   "metadata": {},
   "source": [
    "Once complete, a new directory titled `_pca` will be created containing all your PCA data.\n",
    "```\n",
    ".\n",
    "├── _pca/ **\n",
    "├   ├── pca.h5 ** # pca model compressed file\n",
    "├   ├── pca.yaml  ** # pca model YAML metadata file\n",
    "├   ├── pca_components.png **\n",
    "├   └── pca_scree.png **\n",
    "├── aggregate_results/\n",
    "├── config.yaml\n",
    "├── moseq2-index.yaml\n",
    "├── session_1/\n",
    "└── session_2/\n",
    "\n",
    "```\n",
    "\n",
    "View your `computed PCs` and `scree plot` in the next cell."
   ]
  },
  {
   "cell_type": "code",
   "execution_count": null,
   "metadata": {},
   "outputs": [],
   "source": [
    "from IPython.display import display, Image\n",
    "images = [os.path.join(base_dir, pca_dirname, 'pca_components.png'), \n",
    "          os.path.join(base_dir, pca_dirname, 'pca_scree.png')]\n",
    "for im in images:\n",
    "    display(Image(im))"
   ]
  },
  {
   "cell_type": "markdown",
   "metadata": {},
   "source": [
    "### Possible PCA Pathologies"
   ]
  },
  {
   "cell_type": "markdown",
   "metadata": {},
   "source": [
    "<table style=\"width: 100%;\">\n",
    "  <tbody>\n",
    "    <tr>\n",
    "      <th></th>\n",
    "      <th>Good PCA Output Examples</th>\n",
    "      <th style=\"text-align:center;\">Bad Scree Plot Example</th>\n",
    "      <th style=\"text-align:center;\">Bad Principal Components Example</th>\n",
    "    </tr>  \n",
    "    <tr>\n",
    "      <th style=\"text-align:center;\">Pathology Description</th>\n",
    "      <th style=\"text-align:center;\"></th>\n",
    "      <td style=\"text-align:center;\">Cannot achieve a explained variance of over 90% from less than 15 Principal Components (PCs).</td>\n",
    "      <td style=\"text-align:center;\">Graphed PCs look overprocessed, or are not representative of realistic mouse body regions.</td>\n",
    "    </tr>\n",
    "    <tr>\n",
    "      <th style=\"text-align:center;\">Reference Examples</th>\n",
    "      <th style=\"text-align:center;\">\n",
    "        <ul>\n",
    "            <li>Components<br>\n",
    "                <img src=\"https://drive.google.com/uc?export=view&id=1dX5Gpd3PKL4vfVviLeP0CqBrz9PW37Au\" width=350 height=350></li><br><br>\n",
    "            <li>Scree Plot<br>\n",
    "                <img src=\"https://drive.google.com/uc?export=view&id=12uqsBYuWCjpUQ6QrAjo35MnwYDzHqnge\" width=350 height=350>\n",
    "            <br>\"90.65% in 7 PCs\"</li>\n",
    "        </ul>\n",
    "      </th>\n",
    "      <td><img src=\"https://drive.google.com/uc?export=view&id=14OwThgsf2GXnrl3-9TXEMvF3PDxmRsHE\" width=350 height=350></td>\n",
    "      <td><img src=\"https://drive.google.com/uc?export=view&id=1d35zKWiT7bkWbNNAon_JdSjKyVgcHHzi\" width=350 height=350></td>\n",
    "    </tr>\n",
    "    <tr>\n",
    "      <th style=\"text-align:center;\">Image Analysis Solutions</th>\n",
    "      <th style=\"text-align:center;\"></th>\n",
    "      <td>\n",
    "        <ul>\n",
    "          <li style=\"text-align:left;\">Check if the crop size is too large, if so, decrease it and re-extract your data.</li>\n",
    "          <li style=\"text-align:left;\">Try (incrementally) adjusting the spatial and temporal filtering kernel sizes in the PCA step. Generally, increasing temporal smoothing will aid in increasing explained variance, however overfiltering will hinder ARHMM reliability.</li>\n",
    "        </ul>\n",
    "      </td>\n",
    "      <td>\n",
    "          <ul>\n",
    "              <li style=\"text-align:left;\">Ensure that an appropriate amount of spatial and temporal filtering is applied.</li>\n",
    "              <li style=\"text-align:left;\">If there are  missing frames, apply and appropriate amount of temporal filtering, and a proper amount of PCs are being reconstructed (recon_pcs is set to the appropriate amount of PCs).</li>\n",
    "          </ul>\n",
    "    </td>\n",
    "    </tr>\n",
    "    <tr>\n",
    "      <th style=\"text-align:center;\">General Solutions</th>\n",
    "      <th style=\"text-align:center;\"></th>\n",
    "      <td style=\"text-align:center;\">Increase the size of your dataset. If your dataset is too small, it may contribute to overprocessing PCs as well.</td> <!-- G -->\n",
    "      <td style=\"text-align:center;\">Acquire and extract more data, then try with more data.</td>\n",
    "    </tr>\n",
    "  </tbody>\n",
    "</table>"
   ]
  },
  {
   "cell_type": "markdown",
   "metadata": {},
   "source": [
    "## Computing Principal Component Scores"
   ]
  },
  {
   "cell_type": "markdown",
   "metadata": {},
   "source": [
    "Apply your trained PCA model using your computed principal components to compute your PC Scores."
   ]
  },
  {
   "cell_type": "code",
   "execution_count": null,
   "metadata": {
    "scrolled": false
   },
   "outputs": [],
   "source": [
    "from moseq2_pca.gui import apply_pca_command\n",
    "from moseq2_extract.gui import update_progress\n",
    "\n",
    "scores_filename = 'pca_scores' # name of the scores file to compute and save\n",
    "\n",
    "update_progress(progress_filepath, 'scores_filename', scores_filename)\n",
    "apply_pca_command(base_dir, index_filepath, config_filepath, pca_dirname, scores_filename)"
   ]
  },
  {
   "cell_type": "markdown",
   "metadata": {},
   "source": [
    "Once complete, you will have a pca_scores file saved in your pca directory. (Example shown below)\n",
    "```\n",
    ".\n",
    "├── _pca/\n",
    "├   ├── pca.h5\n",
    "├   ├── pca.yaml\n",
    "├   ├── pca_scores.h5  ** # scores file\n",
    "├   ├── pca_components.png\n",
    "├   └── pca_scree.png\n",
    "├── aggregate_results/\n",
    "├── config.yaml\n",
    "├── moseq2-index.yaml\n",
    "├── session_1/\n",
    "└── session_2/\n",
    "\n",
    "```"
   ]
  },
  {
   "cell_type": "markdown",
   "metadata": {},
   "source": [
    "## (Optional) Computing Model-Free Syllable Changepoints"
   ]
  },
  {
   "cell_type": "markdown",
   "metadata": {},
   "source": [
    "This is an optional step used to aid in determining model-free syllable lengths; which are general approximations of the duration of respective body language syllables. Computing Model-Free Changepoints can be useful for determining the prior variable for syllable duration, denoted as `kappa`, in the ARHMM modeling step.\n",
    "\n",
    "**TO CHANGE __Warning: These parameters have been pre-tuned to accomodate for C57 Mice, and those of the like. Therefore, we do not recommend changing the changepoint calculation parameters. However, if you decide to do so, it is at your own risk.__"
   ]
  },
  {
   "cell_type": "code",
   "execution_count": null,
   "metadata": {},
   "outputs": [],
   "source": [
    "from moseq2_pca.gui import compute_changepoints_command\n",
    "import ruamel.yaml as yaml\n",
    "\n",
    "with open(config_filepath, 'r') as f:\n",
    "    config_data = yaml.safe_load(f)\n",
    "f.close()\n",
    "\n",
    "changepoints_filename = 'changepoints' # name of the changepoints images to generate\n",
    "\n",
    "# Changepoint computation parameters you may want to configure\n",
    "config_data['threshold'] = 0.5 # Peak threshold to use for changepoints\n",
    "config_data['dims'] = 300 # Number of random projections to compare the computed principal components with\n",
    "\n",
    "with open(config_filepath, 'w') as f:\n",
    "    yaml.safe_dump(config_data, f)\n",
    "f.close()\n",
    "\n",
    "compute_changepoints_command(base_dir, config_filepath, pca_dirname, changepoints_filename)"
   ]
  },
  {
   "cell_type": "markdown",
   "metadata": {},
   "source": [
    "The changepoints plot will be generated and saved in the pca directory (example below).\n",
    "\n",
    "```\n",
    ".\n",
    "├── _pca/ \n",
    "├   ├── pca.h5\n",
    "├   ├── pca_scores.h5\n",
    "├   ...\n",
    "├   └── changepoints_dist.png **\n",
    "├── aggregate_results/ \n",
    "├── config.yaml\n",
    "├── moseq2-index.yaml\n",
    "├── session_1/\n",
    "└── session_2/\n",
    "```"
   ]
  },
  {
   "cell_type": "markdown",
   "metadata": {},
   "source": [
    "View your changepoints distance plot:"
   ]
  },
  {
   "cell_type": "code",
   "execution_count": null,
   "metadata": {},
   "outputs": [],
   "source": [
    "from IPython.display import display, Image\n",
    "\n",
    "display(Image(os.path.join(base_dir, pca_dirname, changepoints_filename+'_dist.png')))"
   ]
  },
  {
   "cell_type": "markdown",
   "metadata": {},
   "source": [
    "### Possible Model-Free Changepoints Pathologies"
   ]
  },
  {
   "cell_type": "markdown",
   "metadata": {},
   "source": [
    "<table style=\"width: 100%;\">\n",
    "  <tbody>\n",
    "    <tr>\n",
    "      <th></th>\n",
    "      <th style=\"text-align:center;\">Good Changepoint Analysis Example</th>\n",
    "      <th style=\"text-align:center;\">Poor Changepoints Analysis Example</th>\n",
    "    </tr>  \n",
    "    <tr>\n",
    "      <th style=\"text-align:center;\">Pathology Description</th>\n",
    "      <td style=\"text-align:center;\"></td>\n",
    "      <td style=\"text-align:center;\">Model-free syllable changepoint distances distribution is incorrectly skewed/too sparse.</td>\n",
    "    </tr>\n",
    "    <tr>\n",
    "      <th style=\"text-align:center;\">Reference Example</th>\n",
    "      <td><img src=\"https://drive.google.com/uc?export=view&id=1sMkSB34bGbOimumN6Gg1-zV2Hk98v2Zy\" width=350 height=350></td>\n",
    "      <td><img src=\"https://drive.google.com/uc?export=view&id=1S-ALkPmb8sBZGkKmJ7Q3-RdxAbfS0PWV\" width=350 height=350></td>\n",
    "    </tr>\n",
    "    <tr>\n",
    "      <th style=\"text-align:center;\">General Solutions</th>\n",
    "      <td style=\"text-align:center;\"></td>\n",
    "      <td>\n",
    "          <ul>\n",
    "              <li style=\"text-align:left;\">Try retraining the PCA with adjusted spatial and temporal filtering kernel sizes.</li>\n",
    "              <li style=\"text-align:left;\">Ensure your extracted data is correct. If the extraction version of the mouse is too noisy, then the PC trajectories cannot be accurately applied to the data.</li>\n",
    "              <li style=\"text-align:left;\">Get more data and try again.</li>\n",
    "          </ul>\n",
    "      </td>\n",
    "    </tr>\n",
    "  </tbody>\n",
    "</table>"
   ]
  },
  {
   "cell_type": "markdown",
   "metadata": {},
   "source": [
    "***\n",
    "<center><h1>ARHMM Modeling</h1></center>\n",
    "\n",
    "***"
   ]
  },
  {
   "cell_type": "markdown",
   "metadata": {},
   "source": [
    "In order to train your ARHMM (Auto-Regressive Hidden Markov Model), you will use your computed PC scores as your input data, and specify whether you are modeling a single experimental group for observational research, or modeling multiple different groups (e.g. control vs. experimental groups) for comparative analysis.\n",
    "\n",
    "<img src=\"https://drive.google.com/uc?export=view&id=1V2n5Jg61Pr86m0groyTX_qJ40bSm5LG7\">"
   ]
  },
  {
   "cell_type": "markdown",
   "metadata": {},
   "source": [
    "### (Convenience) Restore Progress Variables"
   ]
  },
  {
   "cell_type": "code",
   "execution_count": null,
   "metadata": {},
   "outputs": [],
   "source": [
    "from moseq2_extract.gui import restore_progress_vars\n",
    "import os\n",
    "\n",
    "base_dir = '' # User-defined absolute path\n",
    "progress_filepath = os.path.join(base_dir, 'progress.yaml')\n",
    "\n",
    "config_filepath, index_filepath, train_data_dir, pca_dirname, \\\n",
    "scores_filename, model_path, scores_file, \\\n",
    "crowd_dir, plot_path = restore_progress_vars(progress_filepath)"
   ]
  },
  {
   "cell_type": "markdown",
   "metadata": {},
   "source": [
    "## (Optional) Specify Groups"
   ]
  },
  {
   "cell_type": "markdown",
   "metadata": {},
   "source": [
    "### What are groups?"
   ]
  },
  {
   "cell_type": "markdown",
   "metadata": {},
   "source": [
    "MoSeq using groups in the `moseq2-index.yaml` file to indicate whether your collected sessions are representing a single experimental group, or many different groups that you would like to compare while modeling and visuslizing\n",
    "\n",
    "The index file requires that all your sessions have a metadata.json file in order to successfully assign each recorded subject or session to a group."
   ]
  },
  {
   "cell_type": "markdown",
   "metadata": {},
   "source": [
    "There are 3 ways you are able to specify your groups:\n",
    "1. Specify group by SessionName\n",
    "2. Specify group by SubjectName\n",
    "3. Manually edit index file\n",
    "\n",
    "Once a cell is run, it will display your current indexing structure."
   ]
  },
  {
   "cell_type": "markdown",
   "metadata": {},
   "source": [
    "### Check Your Index File\n",
    "#### View Indexed Sessions\n",
    "Use this cell to view your sessions' information regarding their SessionNames, SubjectNames, and Groups."
   ]
  },
  {
   "cell_type": "code",
   "execution_count": null,
   "metadata": {},
   "outputs": [],
   "source": [
    "from moseq2_viz.gui import get_groups_command\n",
    "\n",
    "index_filepath = os.path.join(base_dir, 'moseq2-index.yaml')\n",
    "\n",
    "get_groups_command(index_filepath)"
   ]
  },
  {
   "cell_type": "markdown",
   "metadata": {},
   "source": [
    "#### 1 - Specify Group by Session Name"
   ]
  },
  {
   "cell_type": "code",
   "execution_count": null,
   "metadata": {},
   "outputs": [],
   "source": [
    "from moseq2_viz.gui import add_group_by_session\n",
    "\n",
    "value = 'ayman_first_tethered_recording' # value of the corresponding key\n",
    "group = 'group1' # designated group name\n",
    "exact = True # Must be exact key-value match\n",
    "lowercase = False # change to lowercase\n",
    "negative = True # set opposite selection than key-value pair given\n",
    "\n",
    "add_group_by_session(index_filepath, value, group, exact, lowercase, negative)"
   ]
  },
  {
   "cell_type": "markdown",
   "metadata": {},
   "source": [
    "#### 2 - Specify Group by Subject Name"
   ]
  },
  {
   "cell_type": "code",
   "execution_count": null,
   "metadata": {},
   "outputs": [],
   "source": [
    "from moseq2_viz.gui import add_group_by_subject\n",
    "\n",
    "value = 'dat01' # value of the corresponding key\n",
    "group = 'group1' # designated group name\n",
    "exact = True # Must be exact key-value match\n",
    "lowercase = False # change to lowercase\n",
    "negative = False # select opposite selection than key-value pair given\n",
    "\n",
    "add_group_by_subject(index_filepath, value, group, exact, lowercase, negative)"
   ]
  },
  {
   "cell_type": "markdown",
   "metadata": {},
   "source": [
    "#### 3 - Manually Edit Index File"
   ]
  },
  {
   "cell_type": "markdown",
   "metadata": {},
   "source": [
    "Simply navigate to your `moseq2-index.yaml` file in your designated directory, and editing the group key-value pair to your specified name values.\n",
    "\n",
    "***"
   ]
  },
  {
   "cell_type": "markdown",
   "metadata": {},
   "source": [
    "## Train ARHMM"
   ]
  },
  {
   "cell_type": "code",
   "execution_count": null,
   "metadata": {
    "scrolled": true
   },
   "outputs": [],
   "source": [
    "from moseq2_model.gui import learn_model_command\n",
    "from moseq2_extract.gui import update_progress\n",
    "import os\n",
    "\n",
    "pca_dir = os.path.join(base_dir, pca_dirname)\n",
    "scores_file = os.path.join(pca_dir, scores_filename+'.h5') # path to input PC scores file to model\n",
    "model_path = os.path.join(base_dir, 'model.p') # path to save trained model\n",
    "\n",
    "# Advanced modeling parameters\n",
    "hold_out = False # boolean to hold out data subset during the training process\n",
    "hold_out_seed = 42 # integer to standardize the held out folds during training\n",
    "nfolds = 2 # (if hold_out==True): number of folds to hold out during training; 1 fold per session\n",
    "npcs = 20  # number of PCs being used\n",
    "\n",
    "num_iter = 10 # number of iterations to train model\n",
    "max_states = 100 # number of maximum states the ARHMM can end up with\n",
    "kappa = None # syllable length probability distribution prior; if None, kappa=nframes\n",
    "robust = True # use robust-ARHMM with t-distribution\n",
    "\n",
    "separate_trans = True # separate group transition graphs; set to True if ngroups > 1\n",
    "\n",
    "checkpoint_freq = -1 # model saving freqency (in interations)\n",
    "\n",
    "update_progress(progress_filepath, 'scores_path', scores_file)\n",
    "update_progress(progress_filepath, 'model_path', model_path)\n",
    "learn_model_command(scores_file, model_path, config_filepath, index_filepath, hold_out, nfolds,\n",
    "                    num_iter, max_states, npcs, kappa,\n",
    "                    separate_trans, robust, checkpoint_freq)"
   ]
  },
  {
   "cell_type": "markdown",
   "metadata": {},
   "source": [
    "Once training is complete, your model will be saved in your base directory (shown below). \n",
    "```\n",
    ".\n",
    "├── _pca/ \n",
    "├── aggregate_results/ \n",
    "├── config.yaml\n",
    "├── model.p **\n",
    "├── moseq2-index.yaml/\n",
    "├── session_1/\n",
    "└── session_2/\n",
    "```\n",
    "\n",
    "Now use the moseq2-viz module to produce crowd videos and a number of statistical analysis plots."
   ]
  },
  {
   "cell_type": "markdown",
   "metadata": {},
   "source": [
    "***\n",
    "<center><h1>Visualize Analysis Results</h1></center>\n",
    "\n",
    "***"
   ]
  },
  {
   "cell_type": "markdown",
   "metadata": {},
   "source": [
    "Now that you have a trained ARHMM, you can use it generate informative graphs and videos regarding the behavior syllables found, their usage frequency, and transition probabilities.\n",
    "\n",
    "The graph below shows the 4 operations that the MoSeq2-Viz module currently affords. They can also be computed in any order at this point in the notebook.\n",
    "\n",
    "<img src=\"https://drive.google.com/uc?export=view&id=1K_PnJ6psGxmXkUScIpfBStzXbCTO6MB2\">"
   ]
  },
  {
   "cell_type": "markdown",
   "metadata": {},
   "source": [
    "### (Convenience) Restore Notebook Variables"
   ]
  },
  {
   "cell_type": "code",
   "execution_count": null,
   "metadata": {},
   "outputs": [],
   "source": [
    "from moseq2_extract.gui import restore_progress_vars\n",
    "import os\n",
    "\n",
    "base_dir = '' # User-defined absolute path\n",
    "progress_filepath = os.path.join(base_dir, 'progress.yaml')\n",
    "\n",
    "config_filepath, index_filepath, train_data_dir, pca_dirname, \\\n",
    "scores_filename, model_path, scores_file, \\\n",
    "crowd_dir, plot_path = restore_progress_vars(progress_filepath)"
   ]
  },
  {
   "cell_type": "markdown",
   "metadata": {},
   "source": [
    "## Make Crowd Videos"
   ]
  },
  {
   "cell_type": "markdown",
   "metadata": {},
   "source": [
    "This tool allows you to create videos containing many overlayed clips of the mouse performing the same specified syllable at the moment a red dot appears on their body. The videos are sorted by most frequently expressed syllable to least."
   ]
  },
  {
   "cell_type": "code",
   "execution_count": null,
   "metadata": {},
   "outputs": [],
   "source": [
    "import os\n",
    "from moseq2_viz.gui import make_crowd_movies_command\n",
    "from moseq2_extract.gui import update_progress\n",
    "\n",
    "crowd_dir = os.path.join(base_dir, 'crowd_movies/') # output directory to save all movies in\n",
    "max_syllables, max_examples = 20, 20 # maximum number of syllables, and examples of each syllable in a video respectively\n",
    "\n",
    "### If the command stalls, restart the kernel, reload your variables and run it again.\n",
    "update_progress(progress_filepath, 'crowd_dir', crowd_dir)\n",
    "make_crowd_movies_command(index_filepath, model_path, config_filepath, crowd_dir, max_syllables, max_examples)"
   ]
  },
  {
   "cell_type": "markdown",
   "metadata": {},
   "source": [
    "Once completed, your videos will be in your inputted `crowd_dir` path with a metadata file describing the model information. Shown below:\n",
    "\n",
    "```\n",
    ".\n",
    "├── _pca/ \n",
    "├── aggregate_results/ \n",
    "├── config.yaml\n",
    "├── crowd_movies/ **\n",
    "├   ├── info.yaml **\n",
    "├   ├── syllable_sorted_44 (usage).mp4 **\n",
    "├   ...\n",
    "├   └── syllable_sorted_12 (usage).mp4 **\n",
    "├── model.p \n",
    "├── moseq2-index.yaml\n",
    "├── session_1/\n",
    "└── session_2/\n",
    "```"
   ]
  },
  {
   "cell_type": "markdown",
   "metadata": {},
   "source": [
    "View your generated crowd movies below:"
   ]
  },
  {
   "cell_type": "code",
   "execution_count": null,
   "metadata": {
    "scrolled": true
   },
   "outputs": [],
   "source": [
    "from IPython.display import display, Video\n",
    "from glob import glob\n",
    "\n",
    "videos = sorted(glob(os.path.join(crowd_dir, '*.mp4')))\n",
    "vids = [Video(vid, embed=True) for vid in videos]\n",
    "for vid, vp in zip(vids, videos):\n",
    "    print(vp.split('/')[-1])\n",
    "    display(vid)"
   ]
  },
  {
   "cell_type": "markdown",
   "metadata": {},
   "source": [
    "### Possible Crowd Movie Pathologies"
   ]
  },
  {
   "cell_type": "markdown",
   "metadata": {},
   "source": [
    "<table style=\"width: 100%;\">\n",
    "  <tbody>\n",
    "    <tr>\n",
    "      <th></th>\n",
    "      <th style=\"text-align:center;\">Good Crowd Movie Examples</th>\n",
    "      <th style=\"text-align:center;\">Bad; Overfitted ARHMM Crowd Movie Examples</th>\n",
    "      <th style=\"text-align:center;\">Bad; Underfitted ARHMM Crowd Movie Examples</th>\n",
    "    </tr>  \n",
    "    <tr>\n",
    "      <th style=\"text-align:center;\">Pathology Description</th>\n",
    "      <td style=\"text-align:center;\"></td>\n",
    "      <td style=\"text-align:center;\">Generated crowd movies look all too similar.</td>\n",
    "      <td style=\"text-align:center;\">Generated crowd movies do not contain mice unanimously exhibiting the same syllable, or have dramatically varying time-scales.</td>\n",
    "    </tr>\n",
    "    <tr>\n",
    "      <th style=\"text-align:center;\">Reference Examples</th>\n",
    "      <td>\n",
    "          <img src=\"https://drive.google.com/uc?export=view&id=1wkK2exvUKYWT_T-S_PkHUvb4z8Tgd6hm\" width=350 height=350><br><br>\n",
    "          <img src=\"https://drive.google.com/uc?export=view&id=1VNbK_ImeaZJ1t9GwmgyPcL8bk42B7dkJ\" width=350 height=350><br><br>\n",
    "          <img src=\"https://drive.google.com/uc?export=view&id=1fYZGPgd0belwkq8hyMaQF_jmHZE_e8L5\" width=350 height=350>\n",
    "      </td>\n",
    "      <td>\n",
    "          <img src=\"https://drive.google.com/uc?export=view&id=1qyS5YrRnfOWgB8o3fZok7Mc8u_9qNXUs\" width=350 height=350><br><br>\n",
    "           <img src=\"https://drive.google.com/uc?export=view&id=1E2-nPKqQ1M9rWEaZpsYEyfkwnvyv8Nfv\" width=350 height=350><br><br>\n",
    "           <img src=\"https://drive.google.com/uc?export=view&id=18hZnacz1lrZAdV9zuEErUEjPuvTt7fsz\" width=350 height=350>\n",
    "      </td>\n",
    "      <td>\n",
    "          <img src=\"https://drive.google.com/uc?export=view&id=1OIl-crIai6DyQwh3-dKFEKXkZs6BXCda\" width=350 height=350><br><br>\n",
    "          <img src=\"https://drive.google.com/uc?export=view&id=1Bnpwip-2_qWZEKsZ7aCYzF3JhrGOfqbe\" width=350 height=350><br><br>\n",
    "              <img src=\"https://drive.google.com/uc?export=view&id=14luLIi_lgN1chiQxj8OIXBG3RCV1BC4X\" width=350 height=350>\n",
    "      </td>\n",
    "    </tr>\n",
    "    <tr>\n",
    "      <th style=\"text-align:center;\">ARHMM Training Solutions</th>\n",
    "      <td style=\"text-align:center;\"></td> <!-- G -->\n",
    "      <td>\n",
    "        <ul>\n",
    "          <li style=\"text-align:left;\">Ensure your PCs cover over 90% the data's explained variance, and that they are all included in the ARHMM training data.</li>\n",
    "          <li style=\"text-align:left;\">Try increasing the number of max_states that the ARHMM has to increase the problem complexity, increasing variance in labels.</li>\n",
    "          <li style=\"text-align:left;\">Try increasing the number of PCs being used in the ARHMM training.</li>\n",
    "        </ul>\n",
    "      </td>\n",
    "      <td>\n",
    "          <ul>\n",
    "              <li style=\"text-align:left;\">Increase the number of model training iterations in order ensure that the syllable likelihoods are converging.</li>\n",
    "              <li style=\"text-align:left;\">Try decreasing the number of max_states, allowing the model to focus on less syllables, increasing their respective likelihoods. \n",
    "              <li style=\"text-align:left;\">Try decreasing the amount of additive noise (if added), or add spatial filtering to your PC or frame data.</li>\n",
    "          </ul>\n",
    "    </td>\n",
    "    </tr>\n",
    "    <tr> \n",
    "      <th style=\"text-align:center;\">General Solutions</th>\n",
    "      <td style=\"text-align:center;\"></td> <!-- G -->\n",
    "      <td style=\"text-align:center;\">\n",
    "          <ul>\n",
    "              <li style=\"text-align:left;\">If the mouse looks very smooth, then retrain your PCA and ARHMM with less spatial filtering.</li>\n",
    "              <li style=\"text-align:left;\">Acquire more data and try again.</li>\n",
    "          </ul>\n",
    "      </td>\n",
    "      <td style=\"text-align:left;\">\n",
    "          <ul>\n",
    "              <li style=\"text-align:left;\">If the time scales are varying vastly, or the mouse movements are blurry, then retrain your PCA and ARHMM with less temporal filtering.</li>\n",
    "              <li style=\"text-align:left;\">Acquire more data and try again.</li>\n",
    "          </ul>\n",
    "      </td> <!-- R -->\n",
    "    </tr>\n",
    "  </tbody>\n",
    "</table>"
   ]
  },
  {
   "cell_type": "markdown",
   "metadata": {},
   "source": [
    "## Compute Usage Plots"
   ]
  },
  {
   "cell_type": "markdown",
   "metadata": {},
   "source": [
    "Use this command to compute the model-detected syllables usages sorted in descending order of usage. \n",
    "\n",
    "__For plotting multiple groups: the model must have been trained on >1 group with `separate_trans=True`, and the group names must be included in the `groups` tuple.__"
   ]
  },
  {
   "cell_type": "code",
   "execution_count": null,
   "metadata": {
    "scrolled": false
   },
   "outputs": [],
   "source": [
    "from moseq2_viz.gui import plot_usages_command\n",
    "from moseq2_extract.gui import update_progress\n",
    "\n",
    "plot_path = os.path.join(base_dir, 'plots/')\n",
    "sort = True\n",
    "count = 'usage'\n",
    "max_used_syllable = max_syllables - 1 \n",
    "groups = ('group1', 'group2') #empty tuple for default single group usage plot\n",
    "output_file = os.path.join(plot_path, 'usages')\n",
    "\n",
    "if not os.path.exists(plot_path):\n",
    "    os.makedirs(plot_path)\n",
    "\n",
    "update_progress(progress_filepath, 'plot_path', plot_path)\n",
    "plot_usages_command(index_filepath, model_path, sort, count, max_used_syllable, groups, output_file)"
   ]
  },
  {
   "cell_type": "markdown",
   "metadata": {},
   "source": [
    "## Compute Scalar Summary and Tracking Plots"
   ]
  },
  {
   "cell_type": "markdown",
   "metadata": {},
   "source": [
    "Use the following command to compute some scalar summary information about your modeled groups, such as average velocity, height, etc.\n",
    "This command will also generate a tracking summary plot; depicting the path traveled by the mouse in your recordings."
   ]
  },
  {
   "cell_type": "code",
   "execution_count": null,
   "metadata": {},
   "outputs": [],
   "source": [
    "from moseq2_viz.gui import plot_scalar_summary_command\n",
    "\n",
    "output_file = os.path.join(plot_path, 'scalars') # prefix name of the saved scalar position and summary graphs\n",
    "plot_scalar_summary_command(index_filepath, output_file)"
   ]
  },
  {
   "cell_type": "markdown",
   "metadata": {},
   "source": [
    "Graph your output:"
   ]
  },
  {
   "cell_type": "code",
   "execution_count": null,
   "metadata": {},
   "outputs": [],
   "source": [
    "from IPython.display import display, Image\n",
    "from glob import glob\n",
    "\n",
    "images = glob(os.path.join(plot_path, 'scalars_*.png'))\n",
    "ims = [Image(im) for im in images]\n",
    "for im in ims:\n",
    "    display(im)"
   ]
  },
  {
   "cell_type": "markdown",
   "metadata": {},
   "source": [
    "## Compute Mean Syllable Durations (In Development)"
   ]
  },
  {
   "cell_type": "markdown",
   "metadata": {},
   "source": [
    "Use the following command to compute the average syllable length in frames, and display a barplot representing the distribution over the usage-sorted syllable durations. "
   ]
  },
  {
   "cell_type": "code",
   "execution_count": null,
   "metadata": {
    "scrolled": false
   },
   "outputs": [],
   "source": [
    "from moseq2_viz.gui import plot_syllable_durations_command\n",
    "\n",
    "output_file = os.path.join(plot_path, 'durations')\n",
    "max_syllables = 40\n",
    "\n",
    "# If graph does not automatically appear, run cell again.\n",
    "plot_syllable_durations_command(model_path, index_filepath, output_file, max_syllables)"
   ]
  },
  {
   "cell_type": "markdown",
   "metadata": {},
   "source": [
    "## Compute Syllable Transition Graph"
   ]
  },
  {
   "cell_type": "markdown",
   "metadata": {},
   "source": [
    "Use the following command to generate a syllable transition graph. The graph will be comprised of nodes labelled by syllable, and edges depicting a probable transition, with edge thickness depicting the weight of the transition edge.\n",
    "\n",
    "For multiple groups, there will be a transition graph for each group, as well as a difference-graph with different colors to identify the groups."
   ]
  },
  {
   "cell_type": "code",
   "execution_count": null,
   "metadata": {},
   "outputs": [],
   "source": [
    "from moseq2_viz.gui import plot_transition_graph_command\n",
    "import os\n",
    "\n",
    "max_syllable = 40 # Maximum number of nodes in the transition graph\n",
    "groups = () # Group(s) to graph, default graph if empty tuple\n",
    "output_filename = os.path.join(plot_path, 'transition') # name of the png file to be saved\n",
    "\n",
    "# If graph does not automatically appear, run cell again.\n",
    "plot_transition_graph_command(index_filepath, model_path, config_filepath, max_syllable, groups, output_filename)"
   ]
  },
  {
   "cell_type": "markdown",
   "metadata": {},
   "source": [
    "### Possible Syllable Transition Graph Pathologies"
   ]
  },
  {
   "cell_type": "markdown",
   "metadata": {},
   "source": [
    "<table style=\"width:100%;\">\n",
    "  <tbody>\n",
    "    <tr>\n",
    "      <th></th>\n",
    "      <th style=\"text-align:center;\">Good Transition Graph Examples</th>\n",
    "      <th style=\"text-align:center;\">Bad (Underfitted) Transition Graph Example</th>\n",
    "      <th style=\"text-align:center;\">Bad (Overfitted) Transition Graph Example</th>\n",
    "    </tr>  \n",
    "    <tr>\n",
    "      <th style=\"text-align:center;\">Pathology Description</th>\n",
    "      <td style=\"text-align:center;\"></td>\n",
    "      <td style=\"text-align:left;\">Too little syllables are being generated in the syllable transition graph.</td>\n",
    "      <td style=\"text-align:left;\">Too many syllables being generated in the syllable transition graph, all with skewed weights.</td>\n",
    "    </tr>\n",
    "    <tr>\n",
    "      <th style=\"text-align:center;\">Reference</th>\n",
    "      <th align=\"center\">\n",
    "          <ul>\n",
    "              <li style=\"text-align:center;\">Standard Transition Plot</li><br>\n",
    "              <img src=\"https://drive.google.com/uc?export=view&id=1QGEePHLEXzGIBsM2pyvvqPrSbLlSX-ES\" width=350 height=350>\n",
    "              <br><br>\n",
    "              <li style=\"text-align:center;\">Robust ARHM-based Transition Plot</li><br>\n",
    "              <img src=\"https://drive.google.com/uc?export=view&id=1WMcK5KMXt9qjRK1Q8MKb3pD8v-HklISE\" width=350 height=350>\n",
    "          </ul>\n",
    "      </th>\n",
    "      <td align=\"center\"><img src=\"https://drive.google.com/uc?export=view&id=1sUtfppezEgRPeF_idcjusXf7Is1I8ncV\" width=350 height=350></td>\n",
    "      <td align=\"center\"><img src=\"https://drive.google.com/uc?export=view&id=1Ah4XhZAaPo22d6dAXin8v_HlY1hJdqDY\" width=350 height=350></td>\n",
    "    </tr>\n",
    "    <tr> \n",
    "      <th style=\"text-align:center;\">General Solutions</th>\n",
    "      <td style=\"text-align:center;\"></td> <!-- G -->\n",
    "      <td>\n",
    "          <ul>\n",
    "              <li style=\"text-align:left;\">Use a Robust AR-HMM to normalize the syllable probability distributions to a t-distribution, this punishes syllables with low probabilities.</li>\n",
    "              <li style=\"text-align:left;\">Ensure an appropriate amount of temporal filtering is applied to your extracted videos. If too much smoothing is applied then the transitions will become less apparent, skewing model predictions.</li>\n",
    "              <li style=\"text-align:left;\">Try increasing the max_states variable to add more complexity to the model training problem.</li>\n",
    "          </ul>\n",
    "        </td>\n",
    "      <td>\n",
    "          <ul>\n",
    "              <li style=\"text-align:left;\">Use a Robust ARHMM to normalize the syllable transition edge-weights. It also removes unrealistic syllables.</li>\n",
    "              <li style=\"text-align:left;\">Increase the number of training iterations and decrease the max_states value, allowing the model to focus on less syllables.</li>\n",
    "              <li style=\"text-align:left;\">Increasing nfolds and holding out data during training (1 fold per recording in the dataset). This will ensure that the model will not overfit by estimating validation log-likelihoods to compare to during training.</li>\n",
    "              <ul><li style=\"text-align:left;\">It is recommended to hold out 1 fold per recording such that the validation set is properly representative of your training data.</li></ul>\n",
    "          </ul>\n",
    "        </td> <!-- R -->\n",
    "    </tr>\n",
    "  </tbody>\n",
    "</table>"
   ]
  },
  {
   "cell_type": "markdown",
   "metadata": {},
   "source": [
    "***\n",
    "<center><h1>Notebook End</h1></center>\n",
    "\n",
    "***"
   ]
  }
 ],
 "metadata": {
  "kernelspec": {
   "display_name": "Python 3",
   "language": "python",
   "name": "python3"
  },
  "language_info": {
   "codemirror_mode": {
    "name": "ipython",
    "version": 3
   },
   "file_extension": ".py",
   "mimetype": "text/x-python",
   "name": "python",
   "nbconvert_exporter": "python",
   "pygments_lexer": "ipython3",
   "version": "3.6.9"
  },
  "pycharm": {
   "stem_cell": {
    "cell_type": "raw",
    "metadata": {
     "collapsed": false
    },
    "source": []
   }
  }
 },
 "nbformat": 4,
 "nbformat_minor": 4
}
