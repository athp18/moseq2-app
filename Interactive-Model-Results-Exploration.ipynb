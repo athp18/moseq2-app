{
 "cells": [
  {
   "cell_type": "markdown",
   "metadata": {
    "toc": true
   },
   "source": [
    "<h1>Table of Contents<span class=\"tocSkip\"></span></h1>\n",
    "<div class=\"toc\"><ul class=\"toc-item\"><li><span><a href=\"#Load-Progress-/-Set-Paths-to-Model\" data-toc-modified-id=\"Load-Progress-/-Set-Paths-to-Model-1\"><span class=\"toc-item-num\">1&nbsp;&nbsp;</span>Load Progress / Set Paths to Model</a></span></li><li><span><a href=\"#Get-Best-Model-Fit\" data-toc-modified-id=\"Get-Best-Model-Fit-2\"><span class=\"toc-item-num\">2&nbsp;&nbsp;</span>Get Best Model Fit</a></span></li><li><span><a href=\"#Label-Syllables\" data-toc-modified-id=\"Label-Syllables-3\"><span class=\"toc-item-num\">3&nbsp;&nbsp;</span>Label Syllables</a></span><ul class=\"toc-item\"><li><span><a href=\"#Widget-Guide\" data-toc-modified-id=\"Widget-Guide-3.1\"><span class=\"toc-item-num\">3.1&nbsp;&nbsp;</span>Widget Guide</a></span></li><li><span><a href=\"#Instructions\" data-toc-modified-id=\"Instructions-3.2\"><span class=\"toc-item-num\">3.2&nbsp;&nbsp;</span>Instructions</a></span></li></ul></li><li><span><a href=\"#Interactive-Syllable-Statistics-Graphing\" data-toc-modified-id=\"Interactive-Syllable-Statistics-Graphing-4\"><span class=\"toc-item-num\">4&nbsp;&nbsp;</span>Interactive Syllable Statistics Graphing</a></span><ul class=\"toc-item\"><li><span><a href=\"#Widget-Guide\" data-toc-modified-id=\"Widget-Guide-4.1\"><span class=\"toc-item-num\">4.1&nbsp;&nbsp;</span>Widget Guide</a></span></li><li><span><a href=\"#Instructions\" data-toc-modified-id=\"Instructions-4.2\"><span class=\"toc-item-num\">4.2&nbsp;&nbsp;</span>Instructions</a></span></li></ul></li><li><span><a href=\"#Compare-Crowd-Movies-and-Syllable-Position-Heatmaps\" data-toc-modified-id=\"Compare-Crowd-Movies-and-Syllable-Position-Heatmaps-5\"><span class=\"toc-item-num\">5&nbsp;&nbsp;</span>Compare Crowd Movies and Syllable Position Heatmaps</a></span><ul class=\"toc-item\"><li><span><a href=\"#Widget-Guide\" data-toc-modified-id=\"Widget-Guide-5.1\"><span class=\"toc-item-num\">5.1&nbsp;&nbsp;</span>Widget Guide</a></span></li><li><span><a href=\"#Instructions\" data-toc-modified-id=\"Instructions-5.2\"><span class=\"toc-item-num\">5.2&nbsp;&nbsp;</span>Instructions</a></span></li></ul></li><li><span><a href=\"#Interactive-Syllable-Transition-Graph\" data-toc-modified-id=\"Interactive-Syllable-Transition-Graph-6\"><span class=\"toc-item-num\">6&nbsp;&nbsp;</span>Interactive Syllable Transition Graph</a></span><ul class=\"toc-item\"><li><span><a href=\"#Widget-Guide\" data-toc-modified-id=\"Widget-Guide-6.1\"><span class=\"toc-item-num\">6.1&nbsp;&nbsp;</span>Widget Guide</a></span></li><li><span><a href=\"#Instructions\" data-toc-modified-id=\"Instructions-6.2\"><span class=\"toc-item-num\">6.2&nbsp;&nbsp;</span>Instructions</a></span></li></ul></li></ul></div>"
   ]
  },
  {
   "cell_type": "markdown",
   "metadata": {},
   "source": [
    "<center><img src=\"https://drive.google.com/uc?export=view&id=1Nx8Ngb8Va-8JhCPdQEV6u4ZzceKhTZ-1\"></center>"
   ]
  },
  {
   "cell_type": "markdown",
   "metadata": {},
   "source": [
    "## Load Progress / Set Paths to Model"
   ]
  },
  {
   "cell_type": "code",
   "execution_count": null,
   "metadata": {},
   "outputs": [],
   "source": [
    "from moseq2_app.gui.progress import update_progress, restore_progress_vars\n",
    "\n",
    "progress_filepath = './progress.yaml'\n",
    "\n",
    "model_path = ''\n",
    "modeling_session_path = ''\n",
    "\n",
    "progress_paths = restore_progress_vars(progress_filepath)\n",
    "update_progress(progress_filepath, 'modeling_session_path', modeling_session_path)\n",
    "progress_paths = update_progress(progress_filepath, 'model_path', model_path)"
   ]
  },
  {
   "cell_type": "markdown",
   "metadata": {},
   "source": [
    "## Get Best Model Fit\n",
    "\n",
    "Use this feature to determine whether the trained model has captured median syllable durations that match the principal components changepoints.\n",
    "\n",
    "This feature can also return the best model from a list of models found in the `progress_paths['model_session_path']`.\n",
    "\n",
    "Below are examples of some comparative distributions that you can expect when using this tool:\n",
    "\n",
    "<table>\n",
    "    <tr>\n",
    "        <td>\n",
    "            <img height=400 width=400 src=\"https://drive.google.com/uc?export=view&id=1ENQVOFcM7moN_k6G_hVysIAaH-smRnEd\">\n",
    "        </td>\n",
    "        <td>\n",
    "            <img height=400 width=400 src=\"https://drive.google.com/uc?export=view&id=1rtfzkBGISuu8fpGNLNOTt9881Hgg_rXC\">\n",
    "        </td>"
   ]
  },
  {
   "cell_type": "code",
   "execution_count": null,
   "metadata": {},
   "outputs": [],
   "source": [
    "from os.path import join\n",
    "from IPython.display import display, Image\n",
    "from moseq2_viz.gui import get_best_fit_model\n",
    "from moseq2_app.gui.progress import update_progress, restore_progress_vars\n",
    "\n",
    "progress_paths = restore_progress_vars(progress_filepath)\n",
    "\n",
    "output_file = join(progress_paths['plot_path'], 'model_vs_pc_changepoints')\n",
    "\n",
    "best_model_fit = get_best_fit_model(progress_paths, plot_all=True)\n",
    "progress_paths = update_progress(progress_filepath, 'model_path', best_model_fit)\n",
    "display(Image(output_file+'.png'))"
   ]
  },
  {
   "cell_type": "markdown",
   "metadata": {},
   "source": [
    "## Label Syllables\n",
    "\n",
    "Use this feature to simplify interpretting the syllable statistics down the line by viewing the syllable crowd movie and some scalar metrics to determine which behaviors the syllable states represent.\n",
    "\n",
    "<center><h3>Widget Guide</h3></center>\n",
    "<img height=75% width=75% src=\"https://drive.google.com/uc?export=view&id=1EfDMwC9PjPG8Xv-NCSzNoW_WbCneo0O3\">\n",
    "<h3>Instructions</h3>\n",
    "<ol>\n",
    "    <li style=\"text-align:left;\">\n",
    "        Use the crowd movie and the presented syllable scalar table to help guide your labeling decisions.\n",
    "    </li>\n",
    "    <li style=\"text-align:left;\">\n",
    "        Enter the syllable name and desired description into the text fields.\n",
    "    </li>\n",
    "    <li style=\"text-align:left;\">\n",
    "        Use either the dropdown menu widget or the \"Next\" and \"Previous\" buttons to navigate between syllables.\n",
    "    </li>\n",
    "    <li style=\"text-align:left;\">\n",
    "        Once all the syllables are labeled, click the \"Save Setting\" button to write your current session changes to your syllable information yaml file.\n",
    "    </li>\n",
    "</ol>"
   ]
  },
  {
   "cell_type": "code",
   "execution_count": null,
   "metadata": {},
   "outputs": [],
   "source": [
    "from os.path import join\n",
    "from moseq2_app.main import label_syllables\n",
    "from moseq2_app.gui.progress import update_progress, restore_progress_vars\n",
    "\n",
    "progress_paths = restore_progress_vars(progress_filepath)\n",
    "\n",
    "# Path to generate crowd movies in\n",
    "crowd_dir = join(progress_paths['model_session_path'], 'crowd_movies/')\n",
    "\n",
    "# Path to file containing Syllable label information\n",
    "syll_infopath = join(progress_paths['model_session_path'], 'syll_info.yaml')\n",
    "\n",
    "# convenience file containing reused syllable statistics data\n",
    "syll_info_df_path = join(progress_paths['model_session_path'], 'syll_df.parquet')\n",
    "\n",
    "# Select number of syllables based on an explained variance percentage\n",
    "explained_variance = 99\n",
    "\n",
    "# To instead label a fixed number of syllables, set max_syllables <= nstates\n",
    "max_syllables = None\n",
    "\n",
    "update_progress(progress_filepath, 'crowd_dir', crowd_dir)\n",
    "update_progress(progress_filepath, 'syll_info', syll_infopath)\n",
    "progress_paths = update_progress(progress_filepath, 'df_info_path', syll_info_df_path)\n",
    "\n",
    "label_syllables(progress_paths, max_syllables=max_syllables, n_explained=explained_variance)"
   ]
  },
  {
   "cell_type": "markdown",
   "metadata": {},
   "source": [
    "## Interactive Syllable Statistics Graphing\n",
    "\n",
    "Use this tool to interactively plot different syllable statistics and their differences in the modeled groups. The dendrogram displayed below the statistics plot represents the hierarchically sorted pairwise distances between the given model's autoregressive matrices representing the syllables.\n",
    "\n",
    "<br>\n",
    "<center><h3>Widget Guide</h3></center>\n",
    "<img src=\"https://drive.google.com/uc?export=view&id=1-Z8ki3r0qhcAKjV4vUgBOtB1ZCpoWSKB\">\n",
    "\n",
    "<h3 style=\"text-align:left;\">Instructions</h3>\n",
    "<table>\n",
    "    <tr>\n",
    "        <td style=\"width: 45%;\">\n",
    "            <ol>\n",
    "                <li style=\"text-align:left; font-size:15px;\">\n",
    "                    Use the \"Statistic Selector\" to select a syllable statistic to plot.\n",
    "                </li>\n",
    "                <li style=\"text-align:left; font-size:15px;\">\n",
    "                    Toggle the plotted error bars using the \"Error Bars\" dropdown menu.\n",
    "                </li>\n",
    "                <li style=\"text-align:left; font-size:15px;\">\n",
    "                    To resort the syllables with respect to some given statistics, use the Sorting Dropdown.\n",
    "                    <ul>\n",
    "                        <li style=\"text-align:left; font-size:15px;\">\n",
    "                            Select \"Difference\" to sort the syllables from largest to smallest difference between two selected groups.\n",
    "                        </li>\n",
    "                        <li style=\"text-align:left; font-size:15px;\">\n",
    "                            Select \"Similarity\" to reorder the syllables by the model states' autoregressive matrices. The ordering will be identical to the leaves of the dendrogram located under the main plot. \n",
    "                        </li>\n",
    "                    </ul>\n",
    "                </li>\n",
    "                <li style=\"text-align:left; font-size:15px;\">\n",
    "                    Use the \"Grouping\" dropdown menu to select the desired data to plot.\n",
    "                    <ul>\n",
    "                        <li style=\"text-align:left; font-size:15px;\">\n",
    "                            If \"group\" is selected, then the mean of all the sessions within a single group will be displayed.\n",
    "                        </li>\n",
    "                        <li style=\"text-align:left; font-size:15px;\">\n",
    "                           If \"SessionName\" is selected, use the displayed MultipleSelect menu to display individual session's syllable statistics. The mean of each selected session's group will also be displayed as a dashed line. Use CTRL/SHIFT/COMMAND keys to handle multiple row selection.\n",
    "                        </li>\n",
    "                        <li style=\"text-align:left; font-size:15px;\">\n",
    "                           Note: you can click on the legend items to selectively hide the corresponding datapoints.\n",
    "                        </li>\n",
    "                    </ul>\n",
    "                </li>\n",
    "                <li style=\"text-align:left; font-size:15px;\">\n",
    "                    Hover over the circle datapoints to display a pop-up window with additional syllable metadata.\n",
    "                </li>\n",
    "            </ol>\n",
    "        </td>\n",
    "        <td>\n",
    "            <img src=\"https://drive.google.com/uc?export=view&id=11bUHTQ3phcpWygyo1-3DVjfCs0JQRq7s\">\n",
    "            <img src=\"https://drive.google.com/uc?export=view&id=1867H9tazTZLk633Da1jbKSM2bB3xDaIv\">\n",
    "        </td>\n",
    "    </tr>\n",
    "</table>"
   ]
  },
  {
   "cell_type": "code",
   "execution_count": null,
   "metadata": {},
   "outputs": [],
   "source": [
    "from moseq2_app.main import interactive_syllable_stats\n",
    "from moseq2_app.gui.progress import restore_progress_vars\n",
    "\n",
    "progress_paths = restore_progress_vars(progress_filepath)\n",
    "\n",
    "max_syllables = None\n",
    "\n",
    "# If loading parquet files is taking too long, set load_parquet=False\n",
    "interactive_syllable_stats(progress_paths, max_syllable=max_syllables, load_parquet=True)"
   ]
  },
  {
   "cell_type": "markdown",
   "metadata": {},
   "source": [
    "## Compare Crowd Movies and Syllable Position Heatmaps\n",
    "\n",
    "Use this tool to view the syllable phenotypic difference between groups or individual sessions. Upon syllable select, separate crowd movies will be generated and displayed with mouse examples for all the selected groupings along with a table of their syllable metadata. Additionally, you can optionally generate syllable position heatmaps for the respective sessions.\n",
    "\n",
    "\n",
    "<center><h3>Widget Guide</h3></center>\n",
    "<img src=\"https://drive.google.com/uc?export=view&id=1hBiLjtoENc4ouJjmCb2F8NjMkbZEXxFF\">\n",
    "\n",
    "<h3 style=\"text-align:left;\">Instructions</h3>\n",
    "<table>\n",
    "    <tr>\n",
    "        <td style=\"width: 45%;\">\n",
    "            <ol>\n",
    "                <li style=\"text-align:left; font-size:15px;\">\n",
    "                    Use the Syllable Selector DropDown Menu to choose a syllable to display.\n",
    "                </li>\n",
    "                <li style=\"text-align:left; font-size:15px;\">\n",
    "                    Use the \"Example Number\" Slider to control the maximum number of mouse examples being generated in the crowd movies.\n",
    "                </li>\n",
    "                <li style=\"text-align:left; font-size:15px;\">\n",
    "                    Use the \"Movie Sources\" DropDown Menu to control which experimental groups/sessions are included in the displayed crowd movies.\n",
    "                    <ul>\n",
    "                        <li style=\"text-align:left; font-size:15px;\">\n",
    "                            If \"SessionName\" is selected, click the session(s) you would like to generate syllable examples from. Use the keyboard keys: CTRL/COMMAND/SHIFT to handle multiple session selection.\n",
    "                        </li>\n",
    "                    </ul>\n",
    "                </li>\n",
    "            </ol>\n",
    "        </td>\n",
    "        <td>\n",
    "            <img src=\"https://drive.google.com/uc?export=view&id=1cf15cMLxelWfdRs78wA6qaw5to10qXya\">\n",
    "            <img src=\"https://drive.google.com/uc?export=view&id=1czLxTo_5---3UFeyKDs4DD9Y-0B1flLI\">\n",
    "        </td>\n",
    "    </tr>\n",
    "</table>"
   ]
  },
  {
   "cell_type": "code",
   "execution_count": null,
   "metadata": {},
   "outputs": [],
   "source": [
    "from os.path import join\n",
    "from moseq2_app.gui.progress import restore_progress_vars\n",
    "from moseq2_app.main import interactive_crowd_movie_comparison\n",
    "\n",
    "progress_paths = restore_progress_vars(progress_filepath)\n",
    "\n",
    "# Directory to generate grouped crowd movies in\n",
    "grouped_movie_dir = join(progress_paths['base_dir'], 'grouped_crowd_movies/')\n",
    "\n",
    "get_pdfs = True # compute syllable position heatmap PDFs\n",
    "\n",
    "interactive_crowd_movie_comparison(progress_paths, grouped_movie_dir, get_pdfs=get_pdfs, load_parquet=True)"
   ]
  },
  {
   "cell_type": "markdown",
   "metadata": {},
   "source": [
    "## Interactive Syllable Transition Graph\n",
    "\n",
    "Use this tool to explore the behavioral transiton space of your modeled groups. Find sequences of behavior, e.g. bigrams/trigrams, at different usage/transition probability ranges, and gain a better understanding of the differences across your modeling groups. __Note: do not arbitrarily threshold transition graphs for publication purposes. This tool is mainly aimed to explore different behavioral spaces of your modeled groups. \n",
    "\n",
    "<center><h3>Widget Guide</h3></center>\n",
    "<img src=\"https://drive.google.com/uc?export=view&id=1ERBvEVxYdcUY9kWlyqtwbHZi-dFHsZFs\">\n",
    "\n",
    "<h3 style=\"text-align:left;\">Instructions</h3>\n",
    "<table>\n",
    "    <tr>\n",
    "        <td style=\"width: 45%;\">\n",
    "            <ol>\n",
    "                <li style=\"text-align:left; font-size:15px;\">\n",
    "                    Use the \"Graph Layout\" DropDown Menu to control the displayed node layouts. You can use the Bokeh graph tools to control zoom and panning functionalities.\n",
    "                </li>\n",
    "                <li style=\"text-align:left; font-size:15px;\">\n",
    "                    Use the Edge Thresholding Range Slider to select ranges of syllable transition probabilities to display in all the graphs.\n",
    "                </li>\n",
    "                <li style=\"text-align:left; font-size:15px;\">\n",
    "                    Use the Usage Thresholding Slider to select nodes/syllables within the range of syllable usages to display. Note: Nodes outside of the selected range will be hidden.\n",
    "                </li>\n",
    "                <li style=\"text-align:left; font-size:15px;\">\n",
    "                    Use the DropDown Menu to color the nodes by any of the selected syllable scalars.\n",
    "                </li>\n",
    "                <li style=\"text-align:left; font-size:15px;\">\n",
    "                    Use the Speed Thresholding Slider to select nodes/syllables to display within the selected range of speeds.\n",
    "                </li>\n",
    "            </ol>\n",
    "        </td>\n",
    "        <td>\n",
    "            <img src=\"https://drive.google.com/uc?export=view&id=1HXEfc7kVO2J7KWld0-g6H7ZQdVZNVNaa\">\n",
    "        </td>\n",
    "    </tr>\n",
    "</table>\n",
    "\n",
    "Run this cell to disable scrolling in cell output to display the entire view"
   ]
  },
  {
   "cell_type": "code",
   "execution_count": null,
   "metadata": {},
   "outputs": [],
   "source": [
    "%%javascript\n",
    "IPython.OutputArea.prototype._should_scroll = function(lines) {\n",
    "    return false;\n",
    "}"
   ]
  },
  {
   "cell_type": "code",
   "execution_count": null,
   "metadata": {},
   "outputs": [],
   "source": [
    "from moseq2_app.main import interactive_transition_graph\n",
    "from moseq2_app.gui.progress import restore_progress_vars\n",
    "\n",
    "progress_paths = restore_progress_vars(progress_filepath)\n",
    "max_syllables = None\n",
    "\n",
    "interactive_transition_graph(progress_paths, max_syllables=max_syllables, load_parquet=True)"
   ]
  }
 ],
 "metadata": {
  "kernelspec": {
   "display_name": "Python 3",
   "language": "python",
   "name": "python3"
  },
  "language_info": {
   "codemirror_mode": {
    "name": "ipython",
    "version": 3
   },
   "file_extension": ".py",
   "mimetype": "text/x-python",
   "name": "python",
   "nbconvert_exporter": "python",
   "pygments_lexer": "ipython3",
   "version": "3.7.5"
  },
  "toc": {
   "base_numbering": 1,
   "nav_menu": {},
   "number_sections": true,
   "sideBar": true,
   "skip_h1_title": true,
   "title_cell": "Table of Contents",
   "title_sidebar": "Contents",
   "toc_cell": true,
   "toc_position": {},
   "toc_section_display": true,
   "toc_window_display": false
  },
  "varInspector": {
   "cols": {
    "lenName": 16,
    "lenType": 16,
    "lenVar": 40
   },
   "kernels_config": {
    "python": {
     "delete_cmd_postfix": "",
     "delete_cmd_prefix": "del ",
     "library": "var_list.py",
     "varRefreshCmd": "print(var_dic_list())"
    },
    "r": {
     "delete_cmd_postfix": ") ",
     "delete_cmd_prefix": "rm(",
     "library": "var_list.r",
     "varRefreshCmd": "cat(var_dic_list()) "
    }
   },
   "types_to_exclude": [
    "module",
    "function",
    "builtin_function_or_method",
    "instance",
    "_Feature"
   ],
   "window_display": false
  },
  "pycharm": {
   "stem_cell": {
    "cell_type": "raw",
    "source": [],
    "metadata": {
     "collapsed": false
    }
   }
  }
 },
 "nbformat": 4,
 "nbformat_minor": 4
}