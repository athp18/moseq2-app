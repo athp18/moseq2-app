{
 "cells": [
  {
   "cell_type": "markdown",
   "metadata": {},
   "source": [
    "# MoSeq2: Setup and Installation\n"
   ]
  },
  {
   "cell_type": "markdown",
   "metadata": {},
   "source": [
    "## MoSeq2 Usage Pipeline\n",
    "<img src=\"https://raw.githubusercontent.com/dattalab/moseq2-app/jupyter/media/Full_Pipeline.png?token=ACRN4H2NAM273ZDASQPFJDK5T6EBS\" alt=\"Sequential MoSeq2 Usage Pattern\" title=\"MoSeq2 Pipeline\" />"
   ]
  },
  {
   "cell_type": "markdown",
   "metadata": {},
   "source": [
    "# MoSeq2 Software Requirements\n",
    "\n",
    "In order to successfully install MoSeq2, we recommend you ensure you have the following libraries and packages already installed:\n",
    " - All Platforms:\n",
    "     - anaconda3/miniconda3\n",
    "     - python3.6 (top right-hand side of the jupyter notebook will indicate the python version for you)\n",
    "     - git\n",
    "     - gcc-7 and g++-7 (ensure this version is default)\n",
    "     - numpy\n",
    "     - pip\n",
    "     - Conda Environment:\n",
    "         - ffmpeg\n",
    "     - CentOS:\n",
    "         - libSM\n",
    "     - MacOS:\n",
    "         - latest version of XCode"
   ]
  },
  {
   "cell_type": "markdown",
   "metadata": {},
   "source": [
    "## Installing and Setting Up Miniconda3\n",
    "\n",
    "### Installation\n",
    "**On Linux, run:**"
   ]
  },
  {
   "cell_type": "code",
   "execution_count": null,
   "metadata": {},
   "outputs": [],
   "source": [
    "%%bash\n",
    "curl https://repo.continuum.io/miniconda/Miniconda3-latest-Linux-x86_64.sh -o \"$HOME/miniconda3_latest.sh\"\n",
    "chmod +x $HOME/miniconda3_latest.sh\n",
    "$HOME/miniconda3_latest.sh -b -p $HOME/miniconda3"
   ]
  },
  {
   "cell_type": "markdown",
   "metadata": {},
   "source": [
    "**On MacOS, run:**"
   ]
  },
  {
   "cell_type": "code",
   "execution_count": null,
   "metadata": {},
   "outputs": [],
   "source": [
    "%%bash\n",
    "curl https://repo.anaconda.com/miniconda/Miniconda3-latest-MacOSX-x86_64.sh -o \"$HOME/miniconda3_latest.sh\"\n",
    "chmod +x $HOME/miniconda3_latest.sh\n",
    "$HOME/miniconda3_latest.sh -b -p $HOME/miniconda3"
   ]
  },
  {
   "cell_type": "markdown",
   "metadata": {},
   "source": [
    "**On Windows 10,**\n",
    "\n",
    "Ensure you have the [Debian WSL](https://www.microsoft.com/en-us/p/debian/9msvkqc78pk6?activetab=pivot%3Aoverviewtab) installed from the Windows store which will allow you to run a bash terminal. \n",
    "\n",
    "Note: You may have to manually enable Windows Subsystem for Linux (WSL) before being able to use the bash terminal. [Follow this guide to setup your WSL](https://docs.microsoft.com/en-us/windows/wsl/install-win10)\n",
    "\n",
    "Once it is set up, run:"
   ]
  },
  {
   "cell_type": "code",
   "execution_count": null,
   "metadata": {},
   "outputs": [],
   "source": [
    "%%bash\n",
    "sudo apt-get update\n",
    "sudo apt-get install git build-essential curl libxrender-dev libsm6 libglib2.0-0\n",
    "curl https://repo.continuum.io/miniconda/Miniconda3-latest-Linux-x86_64.sh -o \"$HOME/miniconda3_latest.sh\"\n",
    "chmod +x $HOME/miniconda3_latest.sh\n",
    "$HOME/miniconda3_latest.sh -b -p $HOME/miniconda3"
   ]
  },
  {
   "cell_type": "markdown",
   "metadata": {},
   "source": [
    " ## Miniconda Setup\n",
    " \n",
    " Add the appropriate lines to your __.bashrc__ file (or __.bash_profile__ on MacOS)"
   ]
  },
  {
   "cell_type": "code",
   "execution_count": null,
   "metadata": {},
   "outputs": [],
   "source": [
    "%%bash\n",
    "cat >> ~/.bashrc << END\n",
    "PATH=\\$HOME/miniconda3/bin:\\$PATH\n",
    "END\n",
    "source $HOME/.bashrc"
   ]
  },
  {
   "cell_type": "markdown",
   "metadata": {},
   "source": [
    "For macOS copy-past convenience..."
   ]
  },
  {
   "cell_type": "code",
   "execution_count": null,
   "metadata": {},
   "outputs": [],
   "source": [
    "%%bash\n",
    "cat >> ~/.bash_profile << END\n",
    "PATH=\\$HOME/miniconda3/bin:\\$PATH\n",
    "END\n",
    "source $HOME/.bash_profile"
   ]
  },
  {
   "cell_type": "markdown",
   "metadata": {},
   "source": [
    "__NOTE FOR NOVICE TERMINAL USERS: you must run the last line of the above code block when launching a new terminal session. We recommend adding the command to your .bashrc file so that the 'conda' command is always available.__\n",
    "The reason for this is because .bashrc is executed for non-login profiles while .bash_profile is only executed for login profiles. This is optional and for your convenience.\n",
    "\n",
    "Example of how to do that below (for MacOS/.bash_profile users):"
   ]
  },
  {
   "cell_type": "code",
   "execution_count": null,
   "metadata": {},
   "outputs": [],
   "source": [
    "%%bash\n",
    "sudo chmod 770 .bashrc ##IF you do not have user-level permission to edit the file already\n",
    "cat >> ~/.bashrc << END\n",
    "source $HOME/.bash_profile\n",
    "END"
   ]
  },
  {
   "cell_type": "markdown",
   "metadata": {},
   "source": [
    "### Create Conda Virtual Environment\n",
    "In order to create and start using your miniconda environment, run the following commands:"
   ]
  },
  {
   "cell_type": "code",
   "execution_count": null,
   "metadata": {},
   "outputs": [],
   "source": [
    "%%bash\n",
    "conda create -n \"moseq2dev\" python=3.6 -y\n",
    "conda activate moseq2dev"
   ]
  },
  {
   "cell_type": "markdown",
   "metadata": {},
   "source": [
    "#### Ensure you are running the python version located in your corresponding conda environment.\n",
    "\n",
    "Before continuing, this is what your output should look like: ```/Users/username/anaconda3/envs/moseq2dev/bin/python```\n",
    "\n",
    "If that is not the case, then close this notebook session, activate the `moseq2dev` conda environment in the terminal, then reopen the notebook."
   ]
  },
  {
   "cell_type": "code",
   "execution_count": 1,
   "metadata": {},
   "outputs": [
    {
     "name": "stdout",
     "output_type": "stream",
     "text": [
      "/Users/aymanzeine/anaconda3/envs/moseq2/bin/python\n"
     ]
    }
   ],
   "source": [
    "%%bash\n",
    "which python"
   ]
  },
  {
   "cell_type": "markdown",
   "metadata": {},
   "source": [
    "#### Install conda dependency\n",
    "\n",
    "Make sure you install ffmpeg in the moseq2 environment, since the pipeline makes heavy use of it."
   ]
  },
  {
   "cell_type": "code",
   "execution_count": null,
   "metadata": {},
   "outputs": [],
   "source": [
    "%%bash\n",
    "conda install -c conda-forge ffmpeg"
   ]
  },
  {
   "cell_type": "markdown",
   "metadata": {},
   "source": [
    "Now that your conda environment is set up, lets ensure your C/C++ compiler versions are correct in order to install all the tools successfully.\n",
    "\n",
    "### Setting a default gcc/g++ compiler\n",
    "\n",
    "To check which version of gcc is currently used run:"
   ]
  },
  {
   "cell_type": "code",
   "execution_count": null,
   "metadata": {},
   "outputs": [],
   "source": [
    "%%bash\n",
    "gcc -v"
   ]
  },
  {
   "cell_type": "markdown",
   "metadata": {},
   "source": [
    "To check if you have the correct gcc/g++ compiler version run:"
   ]
  },
  {
   "cell_type": "code",
   "execution_count": null,
   "metadata": {},
   "outputs": [],
   "source": [
    "%%bash\n",
    "ls /usr/local/bin/gcc*"
   ]
  },
  {
   "cell_type": "markdown",
   "metadata": {},
   "source": [
    "If you don't have the specified gcc/g++ versions, install them using your preferred package manager."
   ]
  },
  {
   "cell_type": "markdown",
   "metadata": {},
   "source": [
    "__MAC USERS NOTE: if you do not have the latest version of xcode, you will not be able to install your preferred compiler. To do this, run the following command.__"
   ]
  },
  {
   "cell_type": "code",
   "execution_count": null,
   "metadata": {},
   "outputs": [],
   "source": [
    "%%bash\n",
    "xcode-select --install"
   ]
  },
  {
   "cell_type": "code",
   "execution_count": null,
   "metadata": {},
   "outputs": [],
   "source": [
    "%%bash\n",
    "brew install gcc@7"
   ]
  },
  {
   "cell_type": "markdown",
   "metadata": {},
   "source": [
    "**Note: this step is important for pyhsmm (in moseq2-model) to properly install and run in your virtual environment.**\n",
    "\n",
    "To set your compilers to the correct version run: "
   ]
  },
  {
   "cell_type": "code",
   "execution_count": null,
   "metadata": {},
   "outputs": [],
   "source": [
    "%%bash\n",
    "export CC=/usr/local/bin/gcc-7\n",
    "export CXX=/usr/local/bin/g++-7"
   ]
  },
  {
   "cell_type": "markdown",
   "metadata": {},
   "source": [
    "# Installing latest MoSeq2 Repositories\n",
    "\n",
    "Once you have set up your environment and installed all the prerequisite packages, you are now ready to install the MoSeq2 tools."
   ]
  },
  {
   "cell_type": "code",
   "execution_count": null,
   "metadata": {},
   "outputs": [],
   "source": [
    "%%bash \n",
    "source activate moseq2dev\n",
    "pip install --upgrade pip\n",
    "pip install git+https://github.com/dattalab/moseq2-extract.git@dev\n",
    "pip install git+https://github.com/dattalab/moseq2-pca.git@dev\n",
    "pip install git+https://github.com/dattalab/moseq2-model.git@dev\n",
    "pip install git+https://github.com/dattalab/moseq2-viz.git@dev\n",
    "pip install git+https://github.com/dattalab/moseq2-batch.git@dev"
   ]
  },
  {
   "cell_type": "markdown",
   "metadata": {},
   "source": [
    "# Begin Analysis\n",
    "Once successfully completed installation, you are now ready to use MoSeq2! \n",
    "\n",
    "Copy the moseq2-notebook jupyter (`.pynb`) file to your recorded session directory in order to get started.\n",
    "\n",
    "[Click here for the moseq2-notebook.](http://localhost:8888/notebooks/Moseq2-Notebook.ipynb)"
   ]
  }
 ],
 "metadata": {
  "kernelspec": {
   "display_name": "Python 3",
   "language": "python",
   "name": "python3"
  },
  "language_info": {
   "codemirror_mode": {
    "name": "ipython",
    "version": 3
   },
   "file_extension": ".py",
   "mimetype": "text/x-python",
   "name": "python",
   "nbconvert_exporter": "python",
   "pygments_lexer": "ipython3",
   "version": "3.6.9"
  },
  "pycharm": {
   "stem_cell": {
    "cell_type": "raw",
    "metadata": {
     "collapsed": false
    },
    "source": []
   }
  }
 },
 "nbformat": 4,
 "nbformat_minor": 2
}
