{
 "cells": [
  {
   "cell_type": "markdown",
   "metadata": {
    "toc": true
   },
   "source": [
    "<h1>Table of Contents<span class=\"tocSkip\"></span></h1>\n",
    "<div class=\"toc\"><ul class=\"toc-item\"><li><span><a href=\"#Import-All-Dependencies\" data-toc-modified-id=\"Import-All-Dependencies-1\"><span class=\"toc-item-num\">1&nbsp;&nbsp;</span>Import All Dependencies</a></span></li><li><span><a href=\"#Set-Paths-to-Model-and-Index-Files\" data-toc-modified-id=\"Set-Paths-to-Model-and-Index-Files-2\"><span class=\"toc-item-num\">2&nbsp;&nbsp;</span>Set Paths to Model and Index Files</a></span></li><li><span><a href=\"#Compute-Number-Of-Syllables-that-Explain-99%-of-the-Data's-Variance\" data-toc-modified-id=\"Compute-Number-Of-Syllables-that-Explain-99%-of-the-Data's-Variance-3\"><span class=\"toc-item-num\">3&nbsp;&nbsp;</span>Compute Number Of Syllables that Explain 99% of the Data's Variance</a></span></li><li><span><a href=\"#Compute-Syllable-Statistics\" data-toc-modified-id=\"Compute-Syllable-Statistics-4\"><span class=\"toc-item-num\">4&nbsp;&nbsp;</span>Compute Syllable Statistics</a></span></li><li><span><a href=\"#Compute-Scalar-Means-(By-Group)-For-Each-Syllable\" data-toc-modified-id=\"Compute-Scalar-Means-(By-Group)-For-Each-Syllable-5\"><span class=\"toc-item-num\">5&nbsp;&nbsp;</span>Compute Scalar Means (By Group) For Each Syllable</a></span></li><li><span><a href=\"#Plot-Mean-Statistics-Sorted-By-Group-Difference\" data-toc-modified-id=\"Plot-Mean-Statistics-Sorted-By-Group-Difference-6\"><span class=\"toc-item-num\">6&nbsp;&nbsp;</span>Plot Mean Statistics Sorted By Group Difference</a></span></li><li><span><a href=\"#Compute-Scalar-Means-(By-Session)-For-Each-Syllable\" data-toc-modified-id=\"Compute-Scalar-Means-(By-Session)-For-Each-Syllable-7\"><span class=\"toc-item-num\">7&nbsp;&nbsp;</span>Compute Scalar Means (By Session) For Each Syllable</a></span></li><li><span><a href=\"#Compute-Syllable-Distance-Matrices\" data-toc-modified-id=\"Compute-Syllable-Distance-Matrices-8\"><span class=\"toc-item-num\">8&nbsp;&nbsp;</span>Compute Syllable Distance Matrices</a></span></li><li><span><a href=\"#Plot-Syllable-Distance-Dendrogram\" data-toc-modified-id=\"Plot-Syllable-Distance-Dendrogram-9\"><span class=\"toc-item-num\">9&nbsp;&nbsp;</span>Plot Syllable Distance Dendrogram</a></span></li><li><span><a href=\"#Plot-Behavioral-Distance-Confusion-Matrix\" data-toc-modified-id=\"Plot-Behavioral-Distance-Confusion-Matrix-10\"><span class=\"toc-item-num\">10&nbsp;&nbsp;</span>Plot Behavioral Distance Confusion Matrix</a></span></li><li><span><a href=\"#Compute-Syllable-Transition-Matrices\" data-toc-modified-id=\"Compute-Syllable-Transition-Matrices-11\"><span class=\"toc-item-num\">11&nbsp;&nbsp;</span>Compute Syllable Transition Matrices</a></span></li><li><span><a href=\"#Plot-Transition-Matrices\" data-toc-modified-id=\"Plot-Transition-Matrices-12\"><span class=\"toc-item-num\">12&nbsp;&nbsp;</span>Plot Transition Matrices</a></span></li><li><span><a href=\"#Plot-Computed-Transition-Graphs\" data-toc-modified-id=\"Plot-Computed-Transition-Graphs-13\"><span class=\"toc-item-num\">13&nbsp;&nbsp;</span>Plot Computed Transition Graphs</a></span></li><li><span><a href=\"#Hypothesis-Testing\" data-toc-modified-id=\"Hypothesis-Testing-14\"><span class=\"toc-item-num\">14&nbsp;&nbsp;</span>Hypothesis Testing</a></span><ul class=\"toc-item\"><li><span><a href=\"#Mann-Whitney-Hypothesis-Test-(2-Groups)\" data-toc-modified-id=\"Mann-Whitney-Hypothesis-Test-(2-Groups)-14.1\"><span class=\"toc-item-num\">14.1&nbsp;&nbsp;</span>Mann-Whitney Hypothesis Test (2-Groups)</a></span></li><li><span><a href=\"#Kruskal-Wallis-and-Dunn's-Hypothesis-Tests\" data-toc-modified-id=\"Kruskal-Wallis-and-Dunn's-Hypothesis-Tests-14.2\"><span class=\"toc-item-num\">14.2&nbsp;&nbsp;</span>Kruskal-Wallis and Dunn's Hypothesis Tests</a></span></li><li><span><a href=\"#Perform-Bootstrapped-Z-Test\" data-toc-modified-id=\"Perform-Bootstrapped-Z-Test-14.3\"><span class=\"toc-item-num\">14.3&nbsp;&nbsp;</span>Perform Bootstrapped Z-Test</a></span></li><li><span><a href=\"#Perform-T-Test\" data-toc-modified-id=\"Perform-T-Test-14.4\"><span class=\"toc-item-num\">14.4&nbsp;&nbsp;</span>Perform T-Test</a></span></li></ul></li><li><span><a href=\"#Classifiers\" data-toc-modified-id=\"Classifiers-15\"><span class=\"toc-item-num\">15&nbsp;&nbsp;</span>Classifiers</a></span></li><li><span><a href=\"#Embedding\" data-toc-modified-id=\"Embedding-16\"><span class=\"toc-item-num\">16&nbsp;&nbsp;</span>Embedding</a></span><ul class=\"toc-item\"><li><span><a href=\"#LDA\" data-toc-modified-id=\"LDA-16.1\"><span class=\"toc-item-num\">16.1&nbsp;&nbsp;</span>LDA</a></span></li></ul></li></ul></div>"
   ]
  },
  {
   "cell_type": "markdown",
   "metadata": {},
   "source": [
    "## Import All Dependencies"
   ]
  },
  {
   "cell_type": "code",
   "execution_count": null,
   "metadata": {},
   "outputs": [],
   "source": [
    "%matplotlib inline\n",
    "# Syllable Statistics Dependencies\n",
    "import matplotlib.pyplot as plt\n",
    "from moseq2_viz.util import parse_index\n",
    "from moseq2_viz.viz import plot_syll_stats_with_sem\n",
    "from moseq2_viz.scalars.util import scalars_to_dataframe\n",
    "from moseq2_viz.model.stat import (bootstrap_me, get_session_mean_df, run_kruskal,\n",
    "                                   run_ztest, run_ttest, run_mann_whitney_test,\n",
    "                                   train_classifier, run_multiple_comparisons_test,\n",
    "                                   run_LDA)\n",
    "from moseq2_viz.model.util import (compute_behavioral_statistics, \n",
    "                                   sort_syllables_by_stat, get_syllable_usages,\n",
    "                                   compute_syllable_explained_variance,\n",
    "                                   sort_syllables_by_stat_difference)\n",
    "\n",
    "# Behavioral Distance Dependencies\n",
    "from scipy.cluster.hierarchy import linkage, dendrogram\n",
    "from moseq2_viz.model.dist import get_behavioral_distance\n",
    "\n",
    "# Transition Matrices Compute/Graphing Dependencies\n",
    "from moseq2_viz.model.util import parse_model_results, relabel_by_usage\n",
    "from moseq2_viz.model.trans_graph import get_trans_graph_groups, get_group_trans_mats, graph_transition_matrix\n",
    "\n",
    "# Hypothesis Testing Dependencies\n",
    "import numpy as np\n",
    "import pandas as pd\n",
    "from scipy import stats\n",
    "from sklearn import preprocessing\n",
    "from statsmodels.stats.multitest import multipletests"
   ]
  },
  {
   "cell_type": "markdown",
   "metadata": {},
   "source": [
    "## Set Paths to Model and Index Files"
   ]
  },
  {
   "cell_type": "code",
   "execution_count": null,
   "metadata": {},
   "outputs": [],
   "source": [
    "index_path = './moseq2-index.yaml'\n",
    "model_path = './saline-amphetamine/model.p'\n",
    "_, sorted_index = parse_index(index_path)"
   ]
  },
  {
   "cell_type": "markdown",
   "metadata": {},
   "source": [
    "## Compute Number Of Syllables that Explain 99% of the Data's Variance"
   ]
  },
  {
   "cell_type": "code",
   "execution_count": null,
   "metadata": {},
   "outputs": [],
   "source": [
    "model_data = parse_model_results(model_path)\n",
    "model_data['labels'] = relabel_by_usage(model_data['labels'], count='usage')[0]\n",
    "max_syllable = compute_syllable_explained_variance(model_data, n_explained=99)"
   ]
  },
  {
   "cell_type": "markdown",
   "metadata": {},
   "source": [
    "## Compute Syllable Statistics"
   ]
  },
  {
   "cell_type": "code",
   "execution_count": null,
   "metadata": {},
   "outputs": [],
   "source": [
    "_, sorted_index = parse_index(index_path)\n",
    "\n",
    "# compute session scalar data\n",
    "scalar_df = scalars_to_dataframe(sorted_index, model_path=model_path)\n",
    "\n",
    "# compute syllable usage and scalar statistics\n",
    "df = compute_behavioral_statistics(scalar_df, count='usage', groupby=['group', 'uuid'], usage_normalization=True)"
   ]
  },
  {
   "cell_type": "markdown",
   "metadata": {},
   "source": [
    "## Compute Scalar Means (By Group) For Each Syllable"
   ]
  },
  {
   "cell_type": "code",
   "execution_count": null,
   "metadata": {},
   "outputs": [],
   "source": [
    "stat = 'usage'\n",
    "\n",
    "unique_groups = df.group.unique()\n",
    "\n",
    "plot_syll_stats_with_sem(df, \n",
    "                         stat='usage',\n",
    "                         ordering='stat',\n",
    "                         max_sylls=max_syllable,\n",
    "                         groups=unique_groups,\n",
    "                         ctrl_group=None,\n",
    "                         exp_group=None,\n",
    "                         colors=None,\n",
    "                         join=True,\n",
    "                         figsize=(15,7))"
   ]
  },
  {
   "cell_type": "markdown",
   "metadata": {},
   "source": [
    "## Plot Mean Statistics Sorted By Group Difference"
   ]
  },
  {
   "cell_type": "code",
   "execution_count": null,
   "metadata": {},
   "outputs": [],
   "source": [
    "# statistic to plot\n",
    "stat = 'usage'\n",
    "\n",
    "# groups to get difference\n",
    "group1 = 'Saline'\n",
    "group2 = 'Amphetamine'\n",
    "\n",
    "unique_groups = df.group.unique()\n",
    "\n",
    "plot_syll_stats_with_sem(df, \n",
    "                         stat='usage', # choose any of the df columns\n",
    "                         ordering='diff',\n",
    "                         max_sylls=max_syllable,\n",
    "                         groups=unique_groups,\n",
    "                         ctrl_group=group1,\n",
    "                         exp_group=group2,\n",
    "                         colors=None,\n",
    "                         join=True,\n",
    "                         figsize=(15,7))"
   ]
  },
  {
   "cell_type": "markdown",
   "metadata": {},
   "source": [
    "## Compute Scalar Means (By Session) For Each Syllable"
   ]
  },
  {
   "cell_type": "code",
   "execution_count": null,
   "metadata": {},
   "outputs": [],
   "source": [
    "%matplotlib inline\n",
    "\n",
    "# you may switch 'uuid' with 'SessionName' or 'SubjectName' if they are all unique\n",
    "session_mean_df = df.groupby(['syllable', 'uuid']).mean() \n",
    "\n",
    "stat = 'usage'\n",
    "\n",
    "fig, ax = plt.subplots(figsize=(15,7))\n",
    "session_mean_df[stat].unstack().plot(style='o-', ax=ax, legend=False)"
   ]
  },
  {
   "cell_type": "markdown",
   "metadata": {},
   "source": [
    "## Compute Syllable Distance Matrices"
   ]
  },
  {
   "cell_type": "code",
   "execution_count": null,
   "metadata": {},
   "outputs": [],
   "source": [
    "# Get Pairwise distances\n",
    "X = get_behavioral_distance(sorted_index,\n",
    "                            model_path,\n",
    "                            max_syllable=max_syllable,\n",
    "                            distances=['ar[init]'])['ar[init]']"
   ]
  },
  {
   "cell_type": "markdown",
   "metadata": {},
   "source": [
    "## Plot Syllable Distance Dendrogram"
   ]
  },
  {
   "cell_type": "code",
   "execution_count": null,
   "metadata": {},
   "outputs": [],
   "source": [
    "%matplotlib inline\n",
    "\n",
    "fig, ax = plt.subplots(1, 1, figsize=(15, 7))\n",
    "\n",
    "# Compute linkage matrix with respect to a selected precomputed metric\n",
    "Z = linkage(np.nan_to_num(X), 'complete')\n",
    "results = dendrogram(Z, distance_sort=False, get_leaves=True, ax=ax, color_threshold=0)\n",
    "similarity_ordering = results['leaves']"
   ]
  },
  {
   "cell_type": "markdown",
   "metadata": {},
   "source": [
    "## Plot Behavioral Distance Confusion Matrix"
   ]
  },
  {
   "cell_type": "code",
   "execution_count": null,
   "metadata": {},
   "outputs": [],
   "source": [
    "fig, ax = plt.subplots(1)\n",
    "h = ax.imshow(X, aspect='equal', cmap='cubehelix')\n",
    "ax.set_title('Behavioral distance')\n",
    "ax.set_xlabel('Syllable j')\n",
    "ax.set_ylabel('Syllable i')\n",
    "plt.colorbar(h, ax=ax)\n",
    "plt.show()"
   ]
  },
  {
   "cell_type": "markdown",
   "metadata": {},
   "source": [
    "## Compute Syllable Transition Matrices"
   ]
  },
  {
   "cell_type": "code",
   "execution_count": null,
   "metadata": {},
   "outputs": [],
   "source": [
    "# load your model\n",
    "model_data = parse_model_results(model_path)\n",
    "\n",
    "# select a transition matrix normalization method\n",
    "normalize = 'bigram' # other options: 'columns', 'rows'\n",
    "\n",
    "# Get labels and relabel them by usage sorting\n",
    "labels = model_data['labels']\n",
    "labels = relabel_by_usage(labels, count='usage')[0]\n",
    "\n",
    "# Get modeled session uuids to compute group-mean transition graph for\n",
    "group, label_group, _ = get_trans_graph_groups(model_data, sorted_index)\n",
    "\n",
    "# compute transition matrices and usages for each group\n",
    "trans_mats, usages = get_group_trans_mats(labels, label_group, group, max_syllable, normalize=normalize)"
   ]
  },
  {
   "cell_type": "markdown",
   "metadata": {},
   "source": [
    "## Plot Transition Matrices"
   ]
  },
  {
   "cell_type": "code",
   "execution_count": null,
   "metadata": {},
   "outputs": [],
   "source": [
    "fig, ax = plt.subplots(1, len(group), figsize=(12, 8), sharex=False, sharey=True)\n",
    "\n",
    "for i, g in enumerate(group):\n",
    "    h = ax[i].imshow(trans_mats[i][:max_syllable,:max_syllable], cmap='magma')\n",
    "    plt.colorbar(h, ax=ax[i], fraction=0.046, pad=0.04)\n",
    "    ax[i].set_title(f'{g}: Bigram Transition Probabilities')"
   ]
  },
  {
   "cell_type": "markdown",
   "metadata": {},
   "source": [
    "## Plot Computed Transition Graphs"
   ]
  },
  {
   "cell_type": "code",
   "execution_count": null,
   "metadata": {},
   "outputs": [],
   "source": [
    "fig, _, _ = graph_transition_matrix(trans_mats,\n",
    "                                    layout='spring', # or: 'circular', 'spectral'\n",
    "                                    usages=usages.copy(),\n",
    "                                    groups=group,\n",
    "                                    arrows=True,\n",
    "                                    headless=True)"
   ]
  },
  {
   "cell_type": "markdown",
   "metadata": {},
   "source": [
    "## Hypothesis Testing"
   ]
  },
  {
   "cell_type": "markdown",
   "metadata": {},
   "source": [
    "### Mann-Whitney Hypothesis Test (2-Groups)"
   ]
  },
  {
   "cell_type": "code",
   "execution_count": null,
   "metadata": {},
   "outputs": [],
   "source": [
    "statistic = 'usage'\n",
    "group1 = 'Saline'\n",
    "group2 = 'Amphetamine'\n",
    "\n",
    "df_mw_real, exclude_sylls = run_mann_whitney_test(df,\n",
    "                                                  group1,\n",
    "                                                  group2,\n",
    "                                                  statistic=statistic,\n",
    "                                                  max_syllable=max_syllable,\n",
    "                                                  THRESH=0.05,\n",
    "                                                  MC_METHOD='fdr_bh')"
   ]
  },
  {
   "cell_type": "markdown",
   "metadata": {},
   "source": [
    "### Kruskal-Wallis and Dunn's Hypothesis Tests"
   ]
  },
  {
   "cell_type": "code",
   "execution_count": null,
   "metadata": {},
   "outputs": [],
   "source": [
    "# Set KW Constants\n",
    "seed = 42\n",
    "THRESH = 0.05\n",
    "n_perm = 10000\n",
    "statistic = 'usage'\n",
    "MC_METHOD = \"fdr_bh\"\n",
    "\n",
    "kruskal_results_df, dunn_results_df, intersect_sig_syllables = run_kruskal(df, \n",
    "                                                                           statistic=statistic,\n",
    "                                                                           max_syllable=max_syllable,\n",
    "                                                                           n_perm=n_perm,\n",
    "                                                                           seed=seed,\n",
    "                                                                           THRESH=THRESH,\n",
    "                                                                           MC_METHOD=MC_METHOD)"
   ]
  },
  {
   "cell_type": "markdown",
   "metadata": {},
   "source": [
    "### Perform Bootstrapped Z-Test"
   ]
  },
  {
   "cell_type": "code",
   "execution_count": null,
   "metadata": {},
   "outputs": [],
   "source": [
    "pvals_ztest_boots, z_syllables_to_include = run_ztest(df, group1, group2, statistic, max_syllable=max_syllable)"
   ]
  },
  {
   "cell_type": "markdown",
   "metadata": {},
   "source": [
    "### Perform T-Test"
   ]
  },
  {
   "cell_type": "code",
   "execution_count": null,
   "metadata": {
    "pycharm": {
     "name": "#%%\n"
    }
   },
   "outputs": [],
   "source": [
    "pvals_ttest, t_syllables_to_include = run_ttest(df, group1, group2, statistic, max_syllable=max_syllable)\n",
    "t_syllables_to_include"
   ]
  }
 ],
 "metadata": {
  "kernelspec": {
   "display_name": "Python 3",
   "language": "python",
   "name": "python3"
  },
  "language_info": {
   "codemirror_mode": {
    "name": "ipython",
    "version": 3
   },
   "file_extension": ".py",
   "mimetype": "text/x-python",
   "name": "python",
   "nbconvert_exporter": "python",
   "pygments_lexer": "ipython3",
   "version": "3.6.11"
  },
  "toc": {
   "base_numbering": 1,
   "nav_menu": {},
   "number_sections": true,
   "sideBar": true,
   "skip_h1_title": true,
   "title_cell": "Table of Contents",
   "title_sidebar": "Contents",
   "toc_cell": true,
   "toc_position": {},
   "toc_section_display": true,
   "toc_window_display": false
  },
  "varInspector": {
   "cols": {
    "lenName": 16,
    "lenType": 16,
    "lenVar": 40
   },
   "kernels_config": {
    "python": {
     "delete_cmd_postfix": "",
     "delete_cmd_prefix": "del ",
     "library": "var_list.py",
     "varRefreshCmd": "print(var_dic_list())"
    },
    "r": {
     "delete_cmd_postfix": ") ",
     "delete_cmd_prefix": "rm(",
     "library": "var_list.r",
     "varRefreshCmd": "cat(var_dic_list()) "
    }
   },
   "types_to_exclude": [
    "module",
    "function",
    "builtin_function_or_method",
    "instance",
    "_Feature"
   ],
   "window_display": false
  },
  "pycharm": {
   "stem_cell": {
    "cell_type": "raw",
    "source": [],
    "metadata": {
     "collapsed": false
    }
   }
  }
 },
 "nbformat": 4,
 "nbformat_minor": 4
}