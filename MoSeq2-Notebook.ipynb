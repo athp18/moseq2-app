{
 "cells": [
  {
   "cell_type": "markdown",
   "metadata": {},
   "source": [
    "# Welcome to MoSeq2-Notebook\n",
    "\n",
    "### Run all of the MoSeq tools in a containerized notebook."
   ]
  },
  {
   "cell_type": "markdown",
   "metadata": {},
   "source": [
    "# Setup"
   ]
  },
  {
   "cell_type": "markdown",
   "metadata": {},
   "source": [
    "To begin, run the following jupyter notebook to ensure MoSeq2 is installed and running smoothely on your machine.\n",
    "[SETUP NOTEBOOK](http://localhost:8889/notebooks/MoSeq2_Step_0.ipynb)"
   ]
  },
  {
   "cell_type": "markdown",
   "metadata": {},
   "source": [
    "Next, copy this notebook file to your recorded session directory. You will create a new copy of this notebook for each analysis session.\n",
    "\n",
    "You can use the cells below to ensure your sessions are found in this notebook, and the correct python is being used in your designated conda env (where your moseq2 tools are installed)."
   ]
  },
  {
   "cell_type": "code",
   "execution_count": 5,
   "metadata": {},
   "outputs": [
    {
     "data": {
      "text/plain": [
       "['gridsearch-config.yaml',\n",
       " '.ipynb_checkpoints',\n",
       " 'second_test',\n",
       " 'first_test',\n",
       " 'MoSeq2-Notebook.ipynb']"
      ]
     },
     "execution_count": 5,
     "metadata": {},
     "output_type": "execute_result"
    }
   ],
   "source": [
    "import os\n",
    "os.listdir(os.getcwd())"
   ]
  },
  {
   "cell_type": "markdown",
   "metadata": {},
   "source": [
    "Ensure you are running the python version located in your corresponding conda environment."
   ]
  },
  {
   "cell_type": "code",
   "execution_count": null,
   "metadata": {},
   "outputs": [],
   "source": [
    "%%bash\n",
    "which python"
   ]
  },
  {
   "cell_type": "markdown",
   "metadata": {},
   "source": [
    "## Generate Configuration Files"
   ]
  },
  {
   "cell_type": "markdown",
   "metadata": {},
   "source": [
    "If the files and env are correct, run the cell below to generate a configuration file that will aid in modifying advanced analysis/extraction parameters throughout the MoSeq2 pipeline."
   ]
  },
  {
   "cell_type": "markdown",
   "metadata": {},
   "source": [
    "### Single Session Configuration File"
   ]
  },
  {
   "cell_type": "code",
   "execution_count": 6,
   "metadata": {},
   "outputs": [
    {
     "name": "stderr",
     "output_type": "stream",
     "text": [
      "/Users/AymanZAY/miniconda3/envs/moseq2/lib/python3.6/site-packages/dask_jobqueue/config.py:12: YAMLLoadWarning: calling yaml.load() without Loader=... is deprecated, as the default Loader is unsafe. Please read https://msg.pyyaml.org/load for full details.\n",
      "  defaults = yaml.load(f)\n",
      "/Users/AymanZAY/miniconda3/envs/moseq2/lib/python3.6/site-packages/pyhsmm/internals/transitions.py:17: UserWarning: using slow transition counting\n",
      "  warn('using slow transition counting')\n"
     ]
    }
   ],
   "source": [
    "from moseq2_extract.gui import *\n",
    "\n",
    "output_filepath = './config.yaml'\n",
    "\n",
    "generate_config_command(output_filepath)"
   ]
  },
  {
   "cell_type": "markdown",
   "metadata": {},
   "source": [
    "### Multiple Session Configuration File"
   ]
  },
  {
   "cell_type": "code",
   "execution_count": 4,
   "metadata": {},
   "outputs": [
    {
     "name": "stdout",
     "output_type": "stream",
     "text": [
      "['second_test', 'first_test']\n"
     ]
    }
   ],
   "source": [
    "import os\n",
    "from moseq2_extract.gui import *\n",
    "#create a config file for each individual session\n",
    "sessions = [x for x in os.listdir(os.getcwd()) if (os.path.isdir(x) and x[0] != '.')]\n",
    "print(sessions)\n",
    "\n",
    "curr_dir = os.getcwd()\n",
    "\n",
    "for sess in sessions:\n",
    "    generate_config_command(sess+'/config.yaml')"
   ]
  },
  {
   "cell_type": "code",
   "execution_count": 4,
   "metadata": {},
   "outputs": [],
   "source": [
    "import os\n",
    "from moseq2_batch.gui import *\n",
    "\n",
    "input_dir = '/Users/AymanZAY/Desktop/moseq2/moseq2-batch/scan_file_samples'\n",
    "output_dir = os.getcwd()\n",
    "name = 'gridsearch-config.yaml'\n",
    "scan_type = 'gauss'\n",
    "\n",
    "gridsearch_config_command(input_dir, output_dir, name, scan_type)"
   ]
  },
  {
   "cell_type": "markdown",
   "metadata": {},
   "source": [
    "## Download a Flip file\n",
    "In order to ensure your extraction is smooth and invariant to the mouse's orientation, we recommend using a flip-classifier to aid keeping the mouse oriented throughout the extraction.\n",
    "\n",
    "The flip file indices are as follows:\n",
    "* [0] - Large mice with fibers.\n",
    "* [1] - Adult male c57s.\n",
    "* [2] - Mice with Inscopix cables.\n",
    "\n",
    "Enter your desired index in the variable assignment below and run the cell."
   ]
  },
  {
   "cell_type": "code",
   "execution_count": 2,
   "metadata": {},
   "outputs": [
    {
     "data": {
      "text/plain": [
       "'/Users/AymanZAY/Desktop/moseq2/batch_test'"
      ]
     },
     "execution_count": 2,
     "metadata": {},
     "output_type": "execute_result"
    }
   ],
   "source": [
    "import os\n",
    "\n",
    "os.getcwd()"
   ]
  },
  {
   "cell_type": "code",
   "execution_count": null,
   "metadata": {},
   "outputs": [],
   "source": [
    "from moseq2_extract.gui import *\n",
    "\n",
    "output_dir = './'\n",
    "config_file = './config.yaml'\n",
    "selected_index = 1\n",
    "download_flip_command(output_dir, config_file, selected_index)"
   ]
  },
  {
   "cell_type": "markdown",
   "metadata": {},
   "source": [
    "Once that is done, (___for single sessions__)the flip file will be automatically used in your following extractions.\n",
    "\n",
    "For mulitple sessions (for now) you will have to manually input your desired flip file."
   ]
  },
  {
   "cell_type": "markdown",
   "metadata": {},
   "source": [
    "# Raw Data Extraction Step"
   ]
  },
  {
   "cell_type": "markdown",
   "metadata": {},
   "source": [
    "To extract your current session's depth file, input it's path below and run the cell.\n",
    "\n",
    "__Note__: In order to configure your extraction parameters, you must edit your config.yaml file prior to executing the extract command."
   ]
  },
  {
   "cell_type": "markdown",
   "metadata": {},
   "source": [
    "## Pre-Extraction Data Quality Testing"
   ]
  },
  {
   "cell_type": "markdown",
   "metadata": {},
   "source": [
    "Before performing a full extraction on your recordings, follow the following steps to ensure your Regions of Interest (ROIs) are properly found. This will bring more clarity as to what to expect after a complete extraction of your data. "
   ]
  },
  {
   "cell_type": "markdown",
   "metadata": {},
   "source": [
    "### ROI Test"
   ]
  },
  {
   "cell_type": "code",
   "execution_count": null,
   "metadata": {},
   "outputs": [],
   "source": [
    "from moseq2_extract.gui import *\n",
    "\n",
    "input_file = 'depth.dat'\n",
    "output_dir = 'sample_proc/'\n",
    "config_file = 'config.yaml'\n",
    "\n",
    "find_roi_command(input_file, output_dir, config_file)"
   ]
  },
  {
   "cell_type": "code",
   "execution_count": null,
   "metadata": {},
   "outputs": [],
   "source": [
    "#Display extracted ROI\n",
    "from IPython.display import display, Image\n",
    "display(Image(output_dir+'bground.tiff'))"
   ]
  },
  {
   "cell_type": "markdown",
   "metadata": {},
   "source": [
    "### Sample Extraction Test"
   ]
  },
  {
   "cell_type": "code",
   "execution_count": null,
   "metadata": {},
   "outputs": [],
   "source": [
    "from moseq2_extract.gui import *\n",
    "\n",
    "input_file = 'depth.dat'\n",
    "output_dir = 'test_proc/'\n",
    "config_file = 'config.yaml'\n",
    "nframes = 100\n",
    "\n",
    "sample_extract_command(input_file, output_dir, config_file, nframes)\n",
    "\n",
    "from IPython.display import Video, Image\n",
    "Video(output_dir+'results_00.mp4')"
   ]
  },
  {
   "cell_type": "markdown",
   "metadata": {},
   "source": [
    "### Single Session Extraction"
   ]
  },
  {
   "cell_type": "code",
   "execution_count": null,
   "metadata": {},
   "outputs": [],
   "source": [
    "from moseq2_extract.gui import *\n",
    "\n",
    "input_file = 'depth.dat'\n",
    "output_dir = 'proc/'\n",
    "config_file = 'config.yaml'\n",
    "\n",
    "extract_command(input_file, output_dir, config_file)\n",
    "\n",
    "from IPython.display import Video, Image\n",
    "Video(output_dir+'results_00.mp4')"
   ]
  },
  {
   "cell_type": "markdown",
   "metadata": {},
   "source": [
    "### Multi-Session (Batch) Extraction"
   ]
  },
  {
   "cell_type": "code",
   "execution_count": null,
   "metadata": {},
   "outputs": [],
   "source": [
    "from moseq2_batch.gui import *\n",
    "\n",
    "extract_batch_command(input_dir, config_file)"
   ]
  },
  {
   "cell_type": "markdown",
   "metadata": {},
   "source": [
    "## Principal Component Analysis (PCA) Step"
   ]
  },
  {
   "cell_type": "markdown",
   "metadata": {},
   "source": [
    "Once all your data is extracted and saved in your desired proc/ directory, you are now able to perform the PCA step.\n",
    "\n",
    "### Training\n",
    "\n",
    "To train your PCA on your extracted data results, run the following command. It will recursively search within your current directory structure for your extracted results_xx.h5 files."
   ]
  },
  {
   "cell_type": "code",
   "execution_count": null,
   "metadata": {},
   "outputs": [],
   "source": [
    "from moseq2_pca.gui import *\n",
    "\n",
    "input_dir = './'\n",
    "config_file = 'config.yaml'\n",
    "output_file = 'pca'\n",
    "output_dir = '_pca/'\n",
    "\n",
    "train_pca_command(input_dir, config_file, output_dir, output_file)\n",
    "\n",
    "from IPython.display import display, Image\n",
    "images = [output_dir+'pca_components.png',output_dir+'pca_scree.png']\n",
    "for im in images:\n",
    "    display(Image(im))"
   ]
  },
  {
   "cell_type": "markdown",
   "metadata": {},
   "source": [
    "### Computing Principal Component Scores\n",
    "Once your PCA model has been trained, you can now apply your model using your extracted data amd computed principal components. To compute your PC Scores, run the following command:"
   ]
  },
  {
   "cell_type": "code",
   "execution_count": null,
   "metadata": {},
   "outputs": [],
   "source": [
    "from moseq2_pca.gui import *\n",
    "\n",
    "input_dir = './'\n",
    "config_file = 'config.yaml'\n",
    "output_dir = '_pca/'\n",
    "output_file = 'pca_scores'\n",
    "\n",
    "apply_pca_command(input_dir, config_file, output_dir, output_file)"
   ]
  },
  {
   "cell_type": "markdown",
   "metadata": {},
   "source": [
    "### Computing Model-free Syllable Changepoints\n",
    "To measure block duration distances between detected syllables using your PCA model or computed scores, you can run the following command:"
   ]
  },
  {
   "cell_type": "code",
   "execution_count": null,
   "metadata": {},
   "outputs": [],
   "source": [
    "from moseq2_pca.gui import *\n",
    "\n",
    "input_dir = './'\n",
    "config_file = 'config.yaml'\n",
    "output_dir = '_pca/'\n",
    "output_file = 'changepoints'\n",
    "\n",
    "compute_changepoints_command(input_dir, config_file, output_dir, output_file)\n",
    "\n",
    "from IPython.display import display, Image\n",
    "display(Image('_pca/changepoints_dist.png'))"
   ]
  },
  {
   "cell_type": "markdown",
   "metadata": {},
   "source": [
    "## Train ARHMM"
   ]
  },
  {
   "cell_type": "markdown",
   "metadata": {},
   "source": [
    "Once you have computed your PCA Scores, you can now use this data as your input to train your Auto-Regressive Heuristic Markov Model (ARHMM).\n",
    "If you have multiple groups (for example, a control and experimental group) that you would like to model separately using the same model, use the ```--separate-trans``` flag in the command below.\n",
    "\n",
    "### Single Group Training"
   ]
  },
  {
   "cell_type": "code",
   "execution_count": null,
   "metadata": {},
   "outputs": [],
   "source": [
    "from moseq2_model.gui import *\n",
    "import os\n",
    "\n",
    "cwd = os.getcwd()\n",
    "scores_file = cwd+'/_pca/pca_scores.h5'\n",
    "dest_file = cwd+'/model.p'\n",
    "config_file = './config.yaml'\n",
    "index_file = \"\"\n",
    "hold_out = False\n",
    "hold_out_seed = -1\n",
    "nfolds = 5\n",
    "num_iter = 100\n",
    "max_states = 50\n",
    "npcs = 10\n",
    "kappa = 100000 #nframes\n",
    "gamma = 1e3\n",
    "alpha = 5.7\n",
    "separate_trans = False\n",
    "robust = False\n",
    "checkpoint_freq = -1\n",
    "\n",
    "\n",
    "learn_model_command(scores_file, dest_file, config_file, index_file, hold_out, nfolds,\n",
    "                    num_iter, max_states, npcs, kappa, gamma, alpha, \n",
    "                    separate_trans, robust, checkpoint_freq)"
   ]
  },
  {
   "cell_type": "markdown",
   "metadata": {},
   "source": [
    "### Multiple Group Training\n",
    "In order to model multiple groups separately in your model, you must generate an index file to point to all your relevant paths, as well as indicate use the separate transition graphs flag.\n",
    "\n",
    "Begin by generating your index file:"
   ]
  },
  {
   "cell_type": "code",
   "execution_count": null,
   "metadata": {},
   "outputs": [],
   "source": [
    "from moseq2_viz.gui import *\n",
    "\n",
    "input_dir = './'\n",
    "pca_file = '_pca/pca_scores.h5'\n",
    "output_file = 'moseq2-index.yaml'\n",
    "filter_tup = ()\n",
    "all_uuids = False\n",
    "\n",
    "generate_index_command(input_dir, pca_file, output_file, filter_tup, all_uuids)"
   ]
  },
  {
   "cell_type": "markdown",
   "metadata": {},
   "source": [
    "In the following cell you can view which groups your subjects are associated with."
   ]
  },
  {
   "cell_type": "code",
   "execution_count": null,
   "metadata": {},
   "outputs": [],
   "source": [
    "from moseq2_viz.gui import *\n",
    "\n",
    "index_file = 'moseq2-index.yaml'\n",
    "key = ''\n",
    "value = ''\n",
    "group = ''\n",
    "exact = False\n",
    "lowercase = False\n",
    "negative = False\n",
    "\n",
    "add_group_command(index_file, key, value, group, exact, lowercase, negative)\n",
    "\n",
    "\n",
    "# Implement view groups function\n"
   ]
  },
  {
   "cell_type": "markdown",
   "metadata": {},
   "source": [
    "Now you can train your model on multiple groups using your augmented index file."
   ]
  },
  {
   "cell_type": "code",
   "execution_count": null,
   "metadata": {},
   "outputs": [],
   "source": [
    "from moseq2_model.gui import *\n",
    "import os\n",
    "\n",
    "cwd = os.getcwd()\n",
    "scores_file = cwd+'/_pca/pca_scores.h5'\n",
    "dest_file = cwd+'/model.p'\n",
    "config_file = './config.yaml'\n",
    "index_file = \"\"\n",
    "hold_out = False\n",
    "hold_out_seed = -1\n",
    "nfolds = 5\n",
    "num_iter = 100\n",
    "max_states = 50\n",
    "npcs = 10\n",
    "kappa = 100000 #nframes\n",
    "gamma = 1e3\n",
    "alpha = 5.7\n",
    "separate_trans = True\n",
    "robust = False\n",
    "checkpoint_freq = -1\n",
    "\n",
    "\n",
    "learn_model_command(scores_file, dest_file, config_file, index_file, hold_out, nfolds,\n",
    "                    num_iter, max_states, npcs, kappa, gamma, alpha, \n",
    "                    separate_trans, robust, checkpoint_freq)"
   ]
  },
  {
   "cell_type": "markdown",
   "metadata": {},
   "source": [
    "## Visualize Results"
   ]
  },
  {
   "cell_type": "markdown",
   "metadata": {},
   "source": [
    "Now that you have a trained ARHMM, you can use the moseq2-viz module to produce crowd videos and a number of statistical analysis plots."
   ]
  },
  {
   "cell_type": "markdown",
   "metadata": {},
   "source": [
    "### Setup\n",
    "Ensure that you have a `moseq2-index.yaml` file generated using this command:"
   ]
  },
  {
   "cell_type": "code",
   "execution_count": null,
   "metadata": {},
   "outputs": [],
   "source": [
    "from moseq2_viz.gui import *\n",
    "\n",
    "input_dir = './'\n",
    "pca_file = '_pca/pca_scores.h5'\n",
    "output_file = 'moseq2-index.yaml'\n",
    "filter_tup = ()\n",
    "all_uuids = False\n",
    "\n",
    "generate_index_command(input_dir, pca_file, output_file, filter_tup, all_uuids)"
   ]
  },
  {
   "cell_type": "markdown",
   "metadata": {},
   "source": [
    "### Make Crowd Videos\n",
    "This tool allows you to create videos containing many overlayed clips of the mouse performing the same specified syllable at the moment a red dot appears on their body. The videos are sorted by most frequently expressed syllable to least.\n",
    "To create the crowd videos, run the following command:"
   ]
  },
  {
   "cell_type": "code",
   "execution_count": null,
   "metadata": {},
   "outputs": [],
   "source": [
    "from moseq2_viz.gui import *\n",
    "\n",
    "index_filepath = 'moseq2-index.yaml'\n",
    "model_path = 'model.p'\n",
    "config_file = './config.yaml'\n",
    "output_dir = './crowd_movies/'\n",
    "max_syllables, max_examples = 10, 10\n",
    "\n",
    "make_crowd_movies_command(index_filepath, model_path, config_file, output_dir, max_syllables, max_examples)"
   ]
  },
  {
   "cell_type": "markdown",
   "metadata": {},
   "source": [
    "### Compute Usage Plots\n",
    "Use this command to compute the model-detected syllables usages sorted in descending order of usage."
   ]
  },
  {
   "cell_type": "code",
   "execution_count": null,
   "metadata": {},
   "outputs": [],
   "source": [
    "from moseq2_viz.gui import *\n",
    "\n",
    "index_filepath = 'moseq2-index.yaml'\n",
    "model_fit = 'model.p'\n",
    "sort = True\n",
    "count = 'usage'\n",
    "max_syllable = 40\n",
    "group = ''\n",
    "output_file = 'usages'\n",
    "\n",
    "plot_usages_command(index_filepath, model_fit, sort, count, max_syllable, group, output_file)\n",
    "from IPython.display import display, Image\n",
    "display(Image('usages.png'))"
   ]
  },
  {
   "cell_type": "markdown",
   "metadata": {},
   "source": [
    "### Compute Scalar Summary and Tracking Plots\n",
    "Use the following command to compute some scalar summary information about your modeled groups, such as average velocity, height, etc.\n",
    "This command will also generate a tracking summary plot; depicting the path traveled by the mouse in your recordings."
   ]
  },
  {
   "cell_type": "code",
   "execution_count": null,
   "metadata": {},
   "outputs": [],
   "source": [
    "from moseq2_viz.gui import *\n",
    "\n",
    "index_filepath = 'moseq2-index.yaml'\n",
    "output_file = 'scalars'\n",
    "\n",
    "plot_scalar_summary_command(index_filepath, output_file)\n",
    "from IPython.display import display, Image\n",
    "display(Image('scalars_summary.png'))\n",
    "display(Image('scalars_position.png'))"
   ]
  },
  {
   "cell_type": "markdown",
   "metadata": {},
   "source": [
    "### Compute Syllable Transition Graph\n",
    "Use the following command to generate a syllable transition graph. The graph will be comprised of nodes labelled by syllable, and edges depicting a probable transition, with edge thickness depicting the weight of the transition edge.\n",
    "\n",
    "For multiple groups, there will be a transition graph for each group, as well as a unified graph with different colors to identify the groups."
   ]
  },
  {
   "cell_type": "code",
   "execution_count": null,
   "metadata": {},
   "outputs": [],
   "source": [
    "from moseq2_viz.gui import *\n",
    "\n",
    "index_filepath = 'moseq2-index.yaml'\n",
    "model_fit = 'model.p'\n",
    "config_file = './config.yaml'\n",
    "max_syllable = 40\n",
    "group = ''\n",
    "output_file = 'transition'\n",
    "\n",
    "\n",
    "plot_transition_graph_command(index_filepath, model_fit, config_file, max_syllable, group, output_file)\n",
    "\n",
    "from IPython.display import display, Image\n",
    "display(Image('transition.png'))"
   ]
  }
 ],
 "metadata": {
  "kernelspec": {
   "display_name": "Python 3",
   "language": "python",
   "name": "python3"
  },
  "language_info": {
   "codemirror_mode": {
    "name": "ipython",
    "version": 3
   },
   "file_extension": ".py",
   "mimetype": "text/x-python",
   "name": "python",
   "nbconvert_exporter": "python",
   "pygments_lexer": "ipython3",
   "version": "3.6.9"
  }
 },
 "nbformat": 4,
 "nbformat_minor": 2
}
