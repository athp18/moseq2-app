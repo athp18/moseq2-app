{
 "cells": [
  {
   "cell_type": "markdown",
   "metadata": {},
   "source": [
    "# Welcome to MoSeq2-Notebook\n",
    "\n",
    "### Run all of the MoSeq2 tools in a self-contained notebook."
   ]
  },
  {
   "cell_type": "markdown",
   "metadata": {},
   "source": [
    "***\n",
    "<center><h1>MoSeq2 Introduction</h1></center>\n",
    "\n",
    "***\n",
    "\n",
    "<img src=\"https://github.com/dattalab/moseq2-app/blob/master/media/Data_Pipeline.png?raw=true\">\n"
   ]
  },
  {
   "cell_type": "markdown",
   "metadata": {},
   "source": [
    "MoSeq2 software toolkit for unsupervised characterization of animal behavior. Moseq takes depth recordings of single behaving animals as input, and outputs a rich labeling of postural dynamics in terms of reused motifs or 'syllables'. This notebook begins with compressed depth recordings (see 'Data Acquisiting Overview' below) and transforms this data through the steps of:\n",
    "\n",
    "- **Extraction**: The animal is segmented from the background and its position and heading direction are aligned across frames.\n",
    "- **Dimensionality reduction**: Raw video is de-noised and transformed to low-dimensional pose trajectories using principal component analysis (PCA).\n",
    "- **Model training**: Pose trajectories are modeled using an autoregressive hidden Markov model (AR-HMM), producing a sequence of syllable labels.\n",
    "- **Analysis**: Model output is reported through visualization and statistical analysis."
   ]
  },
  {
   "cell_type": "markdown",
   "metadata": {},
   "source": [
    "### Resources\n",
    "Below are a list of publications and links to the individual github tool wikis for your convenience.\n",
    "- Publications\n",
    "    - [Mapping Sub-Second Structure in Mouse Behavior](http://datta.hms.harvard.edu/wp-content/uploads/2018/01/pub_23.pdf)\n",
    "    - [The Striatum Organizes 3D Behavior via Moment-to-Moment Action Selection](http://datta.hms.harvard.edu/wp-content/uploads/2019/06/Markowitz.final_.pdf)\n",
    "    - [Q&A: Understanding the composition of behavior](http://datta.hms.harvard.edu/wp-content/uploads/2019/06/Datta-QA.pdf)\n",
    "- Wikis\n",
    "    - [Extract](https://github.com/dattalab/moseq2-extract/wiki)\n",
    "    - [PCA](https://github.com/dattalab/moseq2-pca/wiki)\n",
    "    - [Model](https://github.com/dattalab/moseq2-model/wiki)\n",
    "    - [Viz](https://github.com/dattalab/moseq2-viz/wiki)"
   ]
  },
  {
   "cell_type": "markdown",
   "metadata": {},
   "source": [
    "## Data Acquisition Overview"
   ]
  },
  {
   "cell_type": "markdown",
   "metadata": {},
   "source": [
    "Moseq2 takes animal depth recordings as input. We we have developed a [data acquisition pipeline](https://github.com/dattalab/moseq2-docs/wiki/Setup:-acquisition-software) for the Xbox Kinect depth camera. We suggest following our [data acquisiting tutorial](https://github.com/dattalab/moseq2-docs/wiki/Acquisition) for doing recordings. "
   ]
  },
  {
   "cell_type": "markdown",
   "metadata": {},
   "source": [
    "***"
   ]
  },
  {
   "cell_type": "markdown",
   "metadata": {},
   "source": [
    "### Ensure you are running the python version located in your corresponding conda environment.\n",
    "\n",
    "Remember: The anaconda environment must be activated prior to launching this jupyter notebook in order to use the specified python version.\n",
    "\n",
    "For example, if your anaconda environment is called moseq2, then your output would look like: ```/Users/username/anaconda3/envs/moseq2/bin/python```"
   ]
  },
  {
   "cell_type": "code",
   "execution_count": null,
   "metadata": {},
   "outputs": [],
   "source": [
    "%%bash\n",
    "which python"
   ]
  },
  {
   "cell_type": "markdown",
   "metadata": {},
   "source": [
    "***\n",
    "<center><h1>Notebook Setup</h1></center>\n",
    "\n",
    "***"
   ]
  },
  {
   "cell_type": "markdown",
   "metadata": {},
   "source": [
    "Install the requirements for Moseq2 by following the [README file](http://localhost:8888/notebooks/MoSeq2_Step_0.ipynb) (if you have not done so already). Then copy the present notebook into the same directory as your depth recordings before proceeding with the following setup steps\n",
    "<img src=\"https://github.com/dattalab/moseq2-app/blob/master/media/Setup_Pipeline.png?raw=true\">"
   ]
  },
  {
   "cell_type": "markdown",
   "metadata": {},
   "source": [
    "### Session Folder Contents"
   ]
  },
  {
   "cell_type": "markdown",
   "metadata": {},
   "source": [
    "After acquiring some data, an individual session folder should contain the following files:\n",
    "\n",
    "```\n",
    "├── session_1/ **\n",
    "├   ├── depth.dat **        # depth data\n",
    "├   ├── depth_ts.txt **     # timestamps\n",
    "└─  └── metadata.json **    # metadata\n",
    "```\n",
    "***\n",
    "\n",
    "- `depth.dat`: compressed file version of depth video (to be extracted)\n",
    "- `depth_ts.txt`: timestamp file used for metadata analysis (can be used to check dropped fram e rate). Check the depth_ts.txt file to be sure that the dropped frame rate is less than 1%. If you look at the difference between neighboring timestamps, it should be ~30 (as in 30 milliseconds).\n",
    "- `metadata.json`: JSON file containing recording session information."
   ]
  },
  {
   "cell_type": "markdown",
   "metadata": {},
   "source": [
    "### Data file organization"
   ]
  },
  {
   "cell_type": "markdown",
   "metadata": {},
   "source": [
    "To ensure that your Moseq2-Notebook runs smoothely, we recommend the following directory structure; where a single master directory contains: __this notebook__, and one sub-directory for each recording session, where each of the sub-directories has depth data, metadata and optional timestamp data:\n",
    "\n",
    "```\n",
    ".\n",
    "├── MoSeq2-Notebook.ipynb **\n",
    "├── session_1/ **\n",
    "├   ├── depth.dat        # depth data\n",
    "├   ├── depth_ts.txt     # timestamps\n",
    "├   └── metadata.json    # metadata\n",
    "├── session_2/ **\n",
    "├   ├── depth.dat\n",
    "├   ├── depth_ts.txt\n",
    "└── └── metadata.json\n",
    "```\n",
    "\n",
    "You can also access and analyze individual (and external) sessions using this notebook by specifying the path when prompted below."
   ]
  },
  {
   "cell_type": "markdown",
   "metadata": {},
   "source": [
    "### Ensure your session folders are found:"
   ]
  },
  {
   "cell_type": "markdown",
   "metadata": {},
   "source": [
    "The following cell will prompt you to enter the path where your recorded sessions can be found. \n",
    "\n",
    "If you have the above recommended directory structure, then just press `ENTER` to search the default current working directory. \n",
    "\n",
    "It will then recursively search through your inputted directory and return the number of found `depth.dat` files, and your base working directory."
   ]
  },
  {
   "cell_type": "code",
   "execution_count": null,
   "metadata": {},
   "outputs": [],
   "source": [
    "from moseq2_extract.gui import get_found_sessions\n",
    "from glob import glob\n",
    "import os\n",
    "\n",
    "base_dir, found_sessions = get_found_sessions()\n",
    "\n",
    "print('Number of found sessions to analyze:', found_sessions)\n",
    "print('Your base directory is:', base_dir)"
   ]
  },
  {
   "cell_type": "code",
   "execution_count": null,
   "metadata": {},
   "outputs": [],
   "source": [
    "%%bash\n",
    "pwd"
   ]
  },
  {
   "cell_type": "markdown",
   "metadata": {},
   "source": [
    "### Generate Configuration Files"
   ]
  },
  {
   "cell_type": "code",
   "execution_count": null,
   "metadata": {},
   "outputs": [],
   "source": [
    "import os\n",
    "from moseq2_extract.gui import generate_config_command\n",
    "\n",
    "config_filepath = os.path.join(base_dir, 'config.yaml')\n",
    "\n",
    "print(f'generating file in path: {config_filepath}')\n",
    "generate_config_command(config_filepath)"
   ]
  },
  {
   "cell_type": "markdown",
   "metadata": {},
   "source": [
    "A configuration file has been created in the same directory as your Notebook and session directories. The directory should now have the following contents\n",
    "\n",
    "```\n",
    ".\n",
    "├── MoSeq2-Notebook.ipynb\n",
    "├── config.yaml **\n",
    "├── session_1/\n",
    "└── session_2/   \n",
    "```"
   ]
  },
  {
   "cell_type": "markdown",
   "metadata": {},
   "source": [
    "### Download a Flip File"
   ]
  },
  {
   "cell_type": "markdown",
   "metadata": {},
   "source": [
    "In order to ensure your extraction is smooth and invariant to the mouse's orientation, we recommend using a flip-classifier to aid keeping the mouse oriented throughout the extraction.\n",
    "Note: MoSeq2-Notebook currently only supports flip correction for Adult male c57 mice. (You may skip this step if your mice are very different)"
   ]
  },
  {
   "cell_type": "code",
   "execution_count": null,
   "metadata": {},
   "outputs": [],
   "source": [
    "from moseq2_extract.gui import download_flip_command\n",
    "\n",
    "download_flip_command(base_dir, config_filepath)"
   ]
  },
  {
   "cell_type": "markdown",
   "metadata": {},
   "source": [
    "***\n",
    "<center><h1>Raw Data Extraction</h1></center>\n",
    "\n",
    "***"
   ]
  },
  {
   "cell_type": "markdown",
   "metadata": {},
   "source": [
    "You will use the MoSeq2-Extract module to convert your raw data files to human-readable/parseable formats such as mp4 videos, and YAML/HDF5 metadata files. These metadata files are used to then train your PCA model, while the mp4 file is primarily used to ensure that the session was extracted correctly with no defects or unwanted artifacts."
   ]
  },
  {
   "cell_type": "markdown",
   "metadata": {},
   "source": [
    "In the extraction step, begin by testing your detected ROIs with the default parameters. If all goes well, continue into the to the test extraction step.\n",
    "\n",
    "The first two steps are meant to debug possible extraction errors you may encounter before performing an extraction on your full dataset.\n",
    "\n",
    "<img src=\"https://github.com/dattalab/moseq2-app/blob/master/media/Extraction_Pipeline.png?raw=true\">\n",
    "\n",
    "Once testing is done, you can then proceed to extract all the session files found by your notebook."
   ]
  },
  {
   "cell_type": "markdown",
   "metadata": {},
   "source": [
    "## Pre-Extraction Data Quality Testing"
   ]
  },
  {
   "cell_type": "markdown",
   "metadata": {},
   "source": [
    "Before performing a full extraction on your recordings, follow the following steps to ensure your Regions of Interest (ROIs) are properly found. This will bring more clarity as to what to expect after a complete extraction of your data. "
   ]
  },
  {
   "cell_type": "markdown",
   "metadata": {},
   "source": [
    "### ROI Test"
   ]
  },
  {
   "cell_type": "markdown",
   "metadata": {},
   "source": [
    "This test ensures that your whole background area is properly captured without any artifacts that may interfere with the mouse video extraction."
   ]
  },
  {
   "cell_type": "markdown",
   "metadata": {},
   "source": [
    "#### Configurable Parameter Descriptions\n",
    "- `bg_roi_dilate`: the detected floor mask is dilated with a kernel whose (width, height) is specified by this parameter\n",
    "- `bg_roi_depth_range`: min/max depth values in which the ROI detection algorithm will search for a flat surface. (I like your note on real-life measurements, keep that here).\n",
    "\n",
    "#### Possible ROI Pathologies\n",
    "_To be completed_"
   ]
  },
  {
   "cell_type": "markdown",
   "metadata": {},
   "source": [
    "The following cell will extract the first frame, ROI, and background ROI for your reference before continuing into the extraction process."
   ]
  },
  {
   "cell_type": "code",
   "execution_count": null,
   "metadata": {},
   "outputs": [],
   "source": [
    "import ruamel.yaml as yaml\n",
    "from moseq2_extract.gui import find_roi_command\n",
    "\n",
    "# see note above about creating file paths\n",
    "sample_testdir_in = base_dir#os.path.join(base_dir, 'session_1/') # session directory to perform ROI testing\n",
    "sample_roi_testfile = os.path.join(sample_testdir_in, 'depth.dat') # depth file to perform ROI testing on\n",
    "sample_testdir_out = os.path.join(sample_testdir_in, 'sample_proc/') # directory to save roi extraction results\n",
    "\n",
    "with open(config_filepath, 'r') as f:\n",
    "    config_data = yaml.safe_load(f)\n",
    "f.close()\n",
    "\n",
    "# Relevant ROI parameters you may need to configure\n",
    "config_data['bg_roi_dilate'] = (10, 10) # Size of the mask dilation (to include environment walls)\n",
    "config_data['bg_roi_depth_range'] = (650, 750) # Range to search for floor of arena (in mm)\n",
    "\n",
    "with open(config_filepath, 'w') as f:\n",
    "    yaml.dump(config_data, f, Dumper=yaml.RoundTripDumper)\n",
    "f.close()\n",
    "\n",
    "find_roi_command(sample_roi_testfile, sample_testdir_out, config_filepath)"
   ]
  },
  {
   "cell_type": "markdown",
   "metadata": {},
   "source": [
    "Once complete, you can expect the following directory structure:\n",
    "\n",
    "```\n",
    ".\n",
    "├── config.yaml\n",
    "├── MoSeq2-Notebook.ipynb\n",
    "├── session_1/\n",
    "├   ├── sample_proc/ **\n",
    "├   ├   ├── bground.png & bground.tiff **\n",
    "├   ├   ├── first_frame.png & first_frame.tiff **\n",
    "├   ├   └── roi.png & roi.tiff ** \n",
    "├   ├── depth.dat\n",
    "├   ├── depth_ts.txt\n",
    "├   └── metadata.json\n",
    "└── session_2/\n",
    "```"
   ]
  },
  {
   "cell_type": "markdown",
   "metadata": {},
   "source": [
    "Display your calculated ROI images below:"
   ]
  },
  {
   "cell_type": "code",
   "execution_count": null,
   "metadata": {},
   "outputs": [],
   "source": [
    "from IPython.display import display, Image\n",
    "from glob import glob\n",
    "\n",
    "images = glob(os.path.join(sample_testdir_out, '*.png'))\n",
    "ims = [Image(im) for im in images]\n",
    "[display(im) for im in ims]"
   ]
  },
  {
   "cell_type": "markdown",
   "metadata": {},
   "source": [
    "### Sample Test Extraction "
   ]
  },
  {
   "cell_type": "markdown",
   "metadata": {},
   "source": [
    "#### Configurable Parameter Descriptions\n",
    "- `min_height`: The shortest possible height that the mouse can be in your recordings. Important factor to include in order to properly estimate the minimum depth value during video construction.\n",
    "- `max_height`: The tallest possible height your mouse can be in your recordings. Important factor to include in order to properly estimate the maximum depth value during video construction.\n",
    "- `spatial_filter_size`: Median spatial filter applied to the raw video pre-extraction in order to get crisp mp4 files. The larger the kernel, the more granular your video will become. Be aware not to set it too high as to not lose video clarity. (Must be ODD)\n",
    "- `temporal_filter_size`: Median temporal filter applied to the raw video pre-extraction in order to handle any frame drops or time irregularities in the compressed data. Only use if your videos appear to be laggy or have a noticable amount of frames dropped. (Must be ODD)\n",
    "\n",
    "#### Possible Extraction Pathologies\n",
    "_To be completed_"
   ]
  },
  {
   "cell_type": "code",
   "execution_count": null,
   "metadata": {},
   "outputs": [],
   "source": [
    "from moseq2_extract.gui import sample_extract_command\n",
    "\n",
    "sample_testfile = os.path.join(sample_testdir_in, 'depth.dat')\n",
    "extract_testdir_out = 'test_proc/' # directory to save sample extraction\n",
    "nframes = 200 # number of frames to extract from raw to preview\n",
    "\n",
    "with open(config_filepath, 'r') as f:\n",
    "    config_data = yaml.safe_load(f)\n",
    "f.close()\n",
    "\n",
    "# Extraction parameters you may need to configure\n",
    "config_data['min_height'] = 10 # Min mouse height from floor (mm)\n",
    "config_data['max_height'] = 100 # Max mouse height from floor (mm)\n",
    "config_data['spatial_filter_size'] = [3] # Space prefilter kernel (median filter, must be odd)\n",
    "config_data['temporal_filter_size'] = [0] # Time prefilter kernel (median filter, must be odd)\n",
    "\n",
    "with open(config_filepath, 'w') as f:\n",
    "    yaml.dump(config_data, f, Dumper=yaml.RoundTripDumper)\n",
    "f.close()\n",
    "\n",
    "sample_extract_command(sample_testfile, extract_testdir_out, config_filepath, nframes)"
   ]
  },
  {
   "cell_type": "markdown",
   "metadata": {},
   "source": [
    "After an extraction, you can expect the following directory structure:\n",
    "\n",
    "```\n",
    ".\n",
    "├── config.yaml\n",
    "├── MoSeq2-Notebook.ipynb\n",
    "├── session_1/\n",
    "├   ├── test_proc/ **\n",
    "├   ├   ├── bground.png & bground.tiff **\n",
    "├   ├   ├── first_frame.png & first_frame.tiff **\n",
    "├   ├   ├── results_00.mp4 **\n",
    "├   ├   ├── results_00.h5 **\n",
    "├   ├   ├── results_00.yaml **\n",
    "├   ├   └── roi.png & roi.tiff ** \n",
    "├   ├── depth.dat\n",
    "├   ├── depth_ts.txt\n",
    "├   └── metadata.json\n",
    "└── session_2/\n",
    "```"
   ]
  },
  {
   "cell_type": "markdown",
   "metadata": {},
   "source": [
    "You can view your sample extraction below:"
   ]
  },
  {
   "cell_type": "code",
   "execution_count": null,
   "metadata": {},
   "outputs": [],
   "source": [
    "from IPython.display import display, Video\n",
    "\n",
    "vid = Video(os.path.join(sample_testdir_in, extract_testdir_out, 'results_00.mp4'))\n",
    "\n",
    "display(vid)"
   ]
  },
  {
   "cell_type": "markdown",
   "metadata": {},
   "source": [
    "If you are happy with your sample extraction, continue to extracting your full dataset. Otherwise, consider adjusting some of your ROI or extraction parameters."
   ]
  },
  {
   "cell_type": "markdown",
   "metadata": {},
   "source": [
    "## Extract Session(s)\n",
    "\n",
    "Run the following cells to extract all of your found previously `depth.dat` files."
   ]
  },
  {
   "cell_type": "code",
   "execution_count": null,
   "metadata": {
    "scrolled": true
   },
   "outputs": [],
   "source": [
    "from moseq2_extract.gui import extract_found_sessions\n",
    "\n",
    "# depth files to recursively search for that have been partially extracted or not yet extracted \n",
    "filename = 'depth.dat'\n",
    "\n",
    "commands = extract_found_sessions(base_dir, config_filepath, filename)"
   ]
  },
  {
   "cell_type": "markdown",
   "metadata": {},
   "source": [
    "This is what your directory structure should look like once the process is complete:\n",
    "\n",
    "```\n",
    ".\n",
    "├── MoSeq2-Notebook.ipynb\n",
    "├── config.yaml\n",
    "├── session_1/\n",
    "├   ...\n",
    "├   └── proc/ **\n",
    "├   ├   ├── roi.tiff\n",
    "├   ├   ...\n",
    "├   └   └── results.h5 **\n",
    "└── session_2/\n",
    "├   ...\n",
    "├   └── proc/ **\n",
    "├   ├   ├── roi.tiff\n",
    "├   ├   ...\n",
    "└   └   └── results.h5 **\n",
    "        \n",
    "```"
   ]
  },
  {
   "cell_type": "markdown",
   "metadata": {},
   "source": [
    "### Aggregate your results into one folder and generate an index file."
   ]
  },
  {
   "cell_type": "markdown",
   "metadata": {},
   "source": [
    "#### Configurable Parameter Descriptions\n",
    "- `recording_format`: the start_time, session_name, and subject_name parameters are variable names that are read from each `metadata.json` file. The names of the resulting files will have the inputted format.\n",
    "- `aggregate_results_dir`: directory name that contains all of your extracted data."
   ]
  },
  {
   "cell_type": "code",
   "execution_count": null,
   "metadata": {},
   "outputs": [],
   "source": [
    "from moseq2_extract.gui import aggregate_extract_results_command\n",
    "\n",
    "recording_format = '{start_time}_{session_name}_{subject_name}' # filename formats for the extracted data\n",
    "aggregate_results_dir = 'aggregate_results/' # directory to save all metadata+extracted videos to with above respective name format\n",
    " \n",
    "aggregate_extract_results_command(base_dir, recording_format, aggregate_results_dir)"
   ]
  },
  {
   "cell_type": "markdown",
   "metadata": {},
   "source": [
    "Resulting in the following directory (sample) structure:\n",
    "\n",
    "```\n",
    ".\n",
    "├── aggregate_results/ **\n",
    "├   ├── session_1_results.h5 ** # session 1 metadata\n",
    "├   ├── session_1_results.yaml **\n",
    "├   ├── session_1_results.mp4 ** # session 1 extracted video\n",
    "├   ├── session_2_results.h5 ** # session 2 metadata\n",
    "├   ├── session_2_results.yaml **\n",
    "├   └── session_2_results.mp4 ** # session 2 extracted video\n",
    "├── config.yaml\n",
    "├── moseq2-index.yaml ** # index file\n",
    "├── MoSeq2-Notebook.ipynb\n",
    "├── session_1/\n",
    "└── session_2/\n",
    "```\n",
    "\n",
    "__Notice your index file has been generated in your base directory.__"
   ]
  },
  {
   "cell_type": "markdown",
   "metadata": {},
   "source": [
    "View all of your extracted videos below:"
   ]
  },
  {
   "cell_type": "code",
   "execution_count": null,
   "metadata": {},
   "outputs": [],
   "source": [
    "from IPython.display import display, Video\n",
    "from glob import glob\n",
    "import os\n",
    "\n",
    "extractions = glob(os.path.join(aggregate_results_dir, '*.mp4'))\n",
    "vids = [Video(vid) for vid in extractions]\n",
    "[display(vid) for vid in vids]"
   ]
  },
  {
   "cell_type": "markdown",
   "metadata": {},
   "source": [
    "***\n",
    "<center><h1>Principal Component Analysis (PCA)</h1></center>\n",
    "\n",
    "***"
   ]
  },
  {
   "cell_type": "markdown",
   "metadata": {},
   "source": [
    "Once the data has been extracted, implement a Principal Component Analysis on your metadata (specifically h5 files) to compute the principal components of your mouse's body in order to subsequently classify its behavior in the ARHMM model.\n",
    "\n",
    "<img src=\"https://github.com/dattalab/moseq2-app/blob/master/media/PCA_Pipeline.png?raw=true\">"
   ]
  },
  {
   "cell_type": "markdown",
   "metadata": {},
   "source": [
    "## Training PCA"
   ]
  },
  {
   "cell_type": "markdown",
   "metadata": {},
   "source": [
    "__A good example of what you should expect from your PCA Components and Scree plot are shown below:__\n",
    "\n",
    "<center>Components</center> | <center>Scree Plot</center>\n",
    "- | - \n",
    "<img src=\"https://github.com/dattalab/moseq2-app/blob/master/media/Components_Ex.png?raw=true\" width=400 height=400> | <img src=\"https://github.com/dattalab/moseq2-app/blob/master/media/Scree_Ex.png?raw=true\" width=400 height=400>"
   ]
  },
  {
   "cell_type": "markdown",
   "metadata": {},
   "source": [
    "#### Configurable Parameter Descriptions\n",
    "- `gaussfilter_space`: Kernel size for performing a gaussian filter on your processed mouse video before performing PCA. This helps identify crisper, more informative principal components.\n",
    "- `medfilter_space`: Same as gauss filter kernel but uses Median Filtering instead. (Typically use one or the other)\n",
    "    - Both filters are used for when the principal components do not appear to have crisp boundaries, or are all too similar to each other to be considered reliable components.\n",
    "- `missing_data`: If you have missing/dropped frames in your videos, set this to true.\n",
    "- `missing_data_iters`: Number of times to iterate over missing data during PCA to fill in missing gaps appropriately.\n",
    "- `recon_pcs`: Number of principal components to reconstruct from missing data.\n",
    "\n",
    "#### Possible PCA Pathologies\n",
    "_To be completed._"
   ]
  },
  {
   "cell_type": "code",
   "execution_count": null,
   "metadata": {},
   "outputs": [],
   "source": [
    "from moseq2_pca.gui import train_pca_command\n",
    "import ruamel.yaml as yaml\n",
    "\n",
    "session_dir = aggregate_results_dir # Directory to search for your extracted sessions\n",
    "pca_filename = 'pca' # Name of your PCA model h5 file to be saved\n",
    "pca_dirname = '_pca/' # Directory to save your computed PCA results\n",
    "\n",
    "with open(config_filepath, 'r') as f:\n",
    "    config_data = yaml.safe_load(f)\n",
    "f.close()\n",
    "\n",
    "# PCA parameters you may need to configure\n",
    "config_data['gaussfilter_space'] = (1.5, 1) # Spatial filter for data (Gaussian)\n",
    "config_data['medfilter_space'] = [0] # Median spatial filter\n",
    "config_data['recon_pcs'] = 10 # Number of PCs to use for missing data reconstruction\n",
    "config_data['missing_data'] = False # Use missing data PCA\n",
    "config_data['missing_data_iters'] = 10 # Number of times to iterate over missing data during PCA\n",
    "\n",
    "\n",
    "with open(config_filepath, 'w') as f:\n",
    "    yaml.dump(config_data, f, Dumper=yaml.RoundTripDumper)\n",
    "f.close()\n",
    "\n",
    "train_pca_command(aggregate_results_dir, config_filepath, pca_dirname, pca_filename)"
   ]
  },
  {
   "cell_type": "markdown",
   "metadata": {},
   "source": [
    "Once complete, you can expect your relative directory structure to look something like this:\n",
    "```\n",
    ".\n",
    "├── _pca/ **\n",
    "├   ├── pca.h5 ** # pca model compressed file\n",
    "├   ├── pca.yaml  ** # pca model YAML metadata file\n",
    "├   ├── pca_components.png **\n",
    "├   └── pca_scree.png **\n",
    "├── aggregate_results/\n",
    "├── config.yaml\n",
    "├── moseq2-index.yaml\n",
    "├── MoSeq2-Notebook.ipynb\n",
    "├── session_1/\n",
    "└── session_2/\n",
    "\n",
    "```\n",
    "\n",
    "View your `computed PCs` and `scree plot` in the next cell."
   ]
  },
  {
   "cell_type": "code",
   "execution_count": null,
   "metadata": {},
   "outputs": [],
   "source": [
    "from IPython.display import display, Image\n",
    "images = [os.path.join(pca_dirname, 'pca_components.png'), os.path.join(pca_dirname, 'pca_scree.png')]\n",
    "for im in images:\n",
    "    display(Image(im))"
   ]
  },
  {
   "cell_type": "markdown",
   "metadata": {},
   "source": [
    "## Computing Principal Component Scores"
   ]
  },
  {
   "cell_type": "markdown",
   "metadata": {},
   "source": [
    "Apply your trained PCA model using your computed principal components to compute your PC Scores."
   ]
  },
  {
   "cell_type": "code",
   "execution_count": null,
   "metadata": {},
   "outputs": [],
   "source": [
    "from moseq2_pca.gui import apply_pca_command\n",
    "\n",
    "scores_filename = 'pca_scores' # name of the scores file to compute and save\n",
    "\n",
    "apply_pca_command(base_dir, config_filepath, pca_dirname, scores_filename)"
   ]
  },
  {
   "cell_type": "markdown",
   "metadata": {},
   "source": [
    "Once complete, you will have a pca_scores file saved in your pca directory. (Example shown below)\n",
    "```\n",
    ".\n",
    "├── _pca/\n",
    "├   ├── pca.h5\n",
    "├   ├── pca.yaml\n",
    "├   ├── pca_scores.h5  ** # scores file\n",
    "├   ├── pca_components.png\n",
    "├   └── pca_scree.png\n",
    "├── aggregate_results/\n",
    "├── config.yaml\n",
    "├── moseq2-index.yaml\n",
    "├── MoSeq2-Notebook.ipynb\n",
    "├── session_1/\n",
    "└── session_2/\n",
    "\n",
    "```"
   ]
  },
  {
   "cell_type": "markdown",
   "metadata": {},
   "source": [
    "## (Optional) Computing Model-Free Syllable Changepoints"
   ]
  },
  {
   "cell_type": "markdown",
   "metadata": {},
   "source": [
    "This is an optional step used to aid in determining model-free syllable lengths; which are general approximations of the duration of respective body language syllables. Computing Model-Free Changepoints can be useful for determining the prior variable for syllable duration, denoted as `kappa`, in the ARHMM modeling step."
   ]
  },
  {
   "cell_type": "markdown",
   "metadata": {},
   "source": [
    "__A good example of a Changepoints Distance plot is shown below__\n",
    "<img src=\"https://github.com/dattalab/moseq2-app/blob/master/media/CP_Ex.png?raw=true\" width=400 height=400>\n",
    "\n",
    "\n",
    "Measure syllable block duration distances between detected syllables using your PCA model or computed PC scores below."
   ]
  },
  {
   "cell_type": "markdown",
   "metadata": {},
   "source": [
    "__Warning: These parameters have been pre-tuned to accomodate for C57 Mice, and those of the like. Therefore, we do not recommend changing the changepoint calculation parameters. However, if you decide to do so, it is at your own risk.__\n",
    "\n",
    "#### Configurable Parameter Descriptions\n",
    "- `threshold`: Computed value used to determine the \"peak\"/transition point from one syllable to the other\n",
    "- `dims`: Number of random projections to use in order to compare the computed principal components with, and determine a distribution for the block durations."
   ]
  },
  {
   "cell_type": "code",
   "execution_count": null,
   "metadata": {},
   "outputs": [],
   "source": [
    "from moseq2_pca.gui import compute_changepoints_command\n",
    "import ruamel.yaml as yaml\n",
    "changepoints_filename = 'changepoints' # name of the changepoints images to generate\n",
    "pca_dirname = '_pca/'\n",
    "with open(config_filepath, 'r') as f:\n",
    "    config_data = yaml.safe_load(f)\n",
    "f.close()\n",
    "\n",
    "# Changepoint computation parameters you may want to configure\n",
    "config_data['threshold'] = 0.5 # Peak threshold to use for changepoints\n",
    "config_data['dims'] = 300 # Number of random projections to use\n",
    "\n",
    "with open(config_filepath, 'w') as f:\n",
    "    yaml.dump(config_data, f, Dumper=yaml.RoundTripDumper)\n",
    "f.close()\n",
    "\n",
    "compute_changepoints_command(base_dir, config_filepath, pca_dirname, changepoints_filename)"
   ]
  },
  {
   "cell_type": "markdown",
   "metadata": {},
   "source": [
    "The changepoints plot will be generated and saved in the pca directory (example below).\n",
    "\n",
    "```\n",
    ".\n",
    "├── _pca/ \n",
    "├   ├── pca.h5\n",
    "├   ├── pca_scores.h5\n",
    "├   ...\n",
    "├   └── changepoints_dist.png **\n",
    "├── aggregate_results/ \n",
    "├── config.yaml\n",
    "├── moseq2-index.yaml\n",
    "├── MoSeq2-Notebook.ipynb\n",
    "├── session_1/\n",
    "└── session_2/\n",
    "```"
   ]
  },
  {
   "cell_type": "markdown",
   "metadata": {},
   "source": [
    "View your changepoints distance plot:"
   ]
  },
  {
   "cell_type": "code",
   "execution_count": null,
   "metadata": {},
   "outputs": [],
   "source": [
    "from IPython.display import display, Image\n",
    "\n",
    "display(Image(os.path.join(pca_dirname, changepoints_filename+'_dist.png')))"
   ]
  },
  {
   "cell_type": "markdown",
   "metadata": {},
   "source": [
    "***\n",
    "<center><h1>ARHMM Modeling</h1></center>\n",
    "\n",
    "***"
   ]
  },
  {
   "cell_type": "markdown",
   "metadata": {},
   "source": [
    "In order to train your ARHMM (Auto-Regressive Hidden Markov Model), you will use your computed PC scores as your input data, and specify whether you are modeling a single experimental group for observational research, or modeling multiple different groups (e.g. control vs. experimental groups) for comparative analysis.\n",
    "\n",
    "<img src=\"https://github.com/dattalab/moseq2-app/blob/master/media/Model_Pipeline.png?raw=true\">"
   ]
  },
  {
   "cell_type": "markdown",
   "metadata": {},
   "source": [
    "## (Optional) Specify Groups"
   ]
  },
  {
   "cell_type": "markdown",
   "metadata": {},
   "source": [
    "### What are groups?"
   ]
  },
  {
   "cell_type": "markdown",
   "metadata": {},
   "source": [
    "MoSeq using groups in the `moseq2-index.yaml` file to indicate whether your collected sessions are representing a single experimental group, or many different groups that you would like to compare while modeling and visuslizing."
   ]
  },
  {
   "cell_type": "markdown",
   "metadata": {},
   "source": [
    "By default, all the session recordings have the same group title: `'default'`. If you do not have 2 sessions that are different enough to separate to different groups for later comparison, you can skip this step.\n",
    "\n",
    "Otherwise, there are 3 ways you are able to specify your groups:\n",
    "1. Specify group by SessionName\n",
    "2. Specify group by SubjectName\n",
    "3. Manually edit index file\n",
    "\n",
    "Once a cell is run, it will display your current indexing structure."
   ]
  },
  {
   "cell_type": "markdown",
   "metadata": {},
   "source": [
    "#### View Indexed Sessions\n",
    "Use this cell to view your sessions' information regarding their SessionNames, SubjectNames, and Groups."
   ]
  },
  {
   "cell_type": "code",
   "execution_count": null,
   "metadata": {},
   "outputs": [],
   "source": [
    "from moseq2_viz.gui import get_groups_command\n",
    "\n",
    "index_filepath = os.path.join(base_dir,'moseq2-index.yaml')\n",
    "\n",
    "get_groups_command(index_filepath)"
   ]
  },
  {
   "cell_type": "markdown",
   "metadata": {},
   "source": [
    "#### 1 - Specify Group by Session Name"
   ]
  },
  {
   "cell_type": "code",
   "execution_count": null,
   "metadata": {},
   "outputs": [],
   "source": [
    "from moseq2_viz.gui import add_group_by_session\n",
    "\n",
    "value = 'ayman_first_tethered_recording' # value of the corresponding key\n",
    "group = 'group1' # designated group name\n",
    "exact = False # Must be exact key-value match\n",
    "lowercase = False # change to lowercase\n",
    "negative = False # select opposite selection than key-value pair given\n",
    "\n",
    "add_group_by_session(index_filepath, value, group, exact, lowercase, negative)"
   ]
  },
  {
   "cell_type": "markdown",
   "metadata": {},
   "source": [
    "#### 2 - Specify Group by Subject Name"
   ]
  },
  {
   "cell_type": "code",
   "execution_count": null,
   "metadata": {},
   "outputs": [],
   "source": [
    "from moseq2_viz.gui import add_group_by_subject\n",
    "\n",
    "value = '1776' # value of the corresponding key\n",
    "group = 'group2' # designated group name\n",
    "exact = False # Must be exact key-value match\n",
    "lowercase = False # change to lowercase\n",
    "negative = False # select opposite selection than key-value pair given\n",
    "\n",
    "add_group_by_subject(index_filepath, value, group, exact, lowercase, negative)"
   ]
  },
  {
   "cell_type": "markdown",
   "metadata": {},
   "source": [
    "#### 3 - Manually Edit Index File"
   ]
  },
  {
   "cell_type": "markdown",
   "metadata": {},
   "source": [
    "Simply navigate to your `moseq2-index.yaml` file in your jupyter notebook homepage and edit the group names to your specified values."
   ]
  },
  {
   "cell_type": "markdown",
   "metadata": {},
   "source": [
    "## Train ARHMM"
   ]
  },
  {
   "cell_type": "markdown",
   "metadata": {},
   "source": [
    "#### Configurable Parameter Descriptions\n",
    "- `hold_out`: Boolean for whether to hold out data during the training process.\n",
    "- `hold_out_seed`: Integer used to reproduce the same hold out set for repeated testing.\n",
    "- `nfolds`: Number of data folds to hold out during training. (If used, nfolds <= nsessions)\n",
    "- `npcs`: Number of selected principal components, chosen in order as shown in the PC Components plot. If too few or too many PCs are selected, the ARHMM predictions will become unreliable.\n",
    "- `num_iter`: Number of time the model will iterate over your dataset, we recommend at least 100 starting out. This is modeling regularization parameter to ensure that your model is fitting appropriately to its given dataset.\n",
    "- `max_states`: Maximum number of states the ARHMM that the ARHMM can end up with at the end of training. This is modeling regularization parameter that indicates the complexity of the transitions that may be happening in your dataset. Therefore, if there are too few the model may not learn the actual behavior, and if there are too many, then the model will overfit to the dataset.\n",
    "- `separate-trans`: Boolean for whether to separate the modeling process for different groups. (Must set to true if number of unique groups > 1)\n",
    "- `kappa`: Prior probability variable used to indicate average syllable length. Setting kappa to the number of frames is a good starting point to determining the proper expressed syllable durations. If kappa is too low, syllables will appear to be too short, and vice versa.\n",
    "- `checkpoint_freq`: Value indicating when to save model checkpoints per number of iterations passed. (If -1, do not checkpoint)\n",
    "\n",
    "#### Possible ARHMM Pathologies\n",
    "_To be completed._"
   ]
  },
  {
   "cell_type": "code",
   "execution_count": null,
   "metadata": {
    "scrolled": true
   },
   "outputs": [],
   "source": [
    "from moseq2_model.gui import learn_model_command\n",
    "import os\n",
    "pca_dirname = '_pca/'\n",
    "scores_filename = 'pca_scores'\n",
    "base_dir = './'\n",
    "config_filepath = 'config.yaml'\n",
    "scores_file = os.path.join(pca_dirname, scores_filename+'.h5') # path to input PC scores file to model\n",
    "model_path = os.path.join(base_dir, 'model.p') # path to save trained model\n",
    "index_filepath = os.path.join(base_dir, 'moseq2-index.yaml') # path to your auto-generated (possibly modified) index file\n",
    "\n",
    "# Advanced modeling parameters\n",
    "hold_out = False # boolean to hold out data during the training process\n",
    "hold_out_seed = -1 # integer to standardize the held out folds during training\n",
    "nfolds = 2 # number of folds to hold out during training (if hold_out==True)\n",
    "npcs = 10  # number of PCs being used\n",
    "\n",
    "num_iter = 50 # number of iterations to train model\n",
    "max_states = 100 # number of maximum states the ARHMM can end up with\n",
    "kappa = None # syllable length prior None for default\n",
    "robust = False # use robust-ARHMM with t-distribution\n",
    "\n",
    "separate_trans = True # separate group transition graphs; set to True if ngroups > 1\n",
    "\n",
    "checkpoint_freq = -1 # model saving freqency (in interations)\n",
    "\n",
    "learn_model_command(scores_file, model_path, config_filepath, index_filepath, hold_out, nfolds,\n",
    "                    num_iter, max_states, npcs, kappa,\n",
    "                    separate_trans, robust, checkpoint_freq)"
   ]
  },
  {
   "cell_type": "markdown",
   "metadata": {},
   "source": [
    "Once training is complete, your model will be saved in your base directory (shown below). \n",
    "```\n",
    ".\n",
    "├── _pca/ \n",
    "├── aggregate_results/ \n",
    "├── config.yaml\n",
    "├── model.p **\n",
    "├── moseq2-index.yaml/\n",
    "├── MoSeq2-Notebook.ipynb\n",
    "├── session_1/\n",
    "└── session_2/\n",
    "```\n",
    "\n",
    "Now use the moseq2-viz module to produce crowd videos and a number of statistical analysis plots."
   ]
  },
  {
   "cell_type": "markdown",
   "metadata": {},
   "source": [
    "***\n",
    "<center><h1>Visualize Analysis Results</h1></center>\n",
    "\n",
    "***"
   ]
  },
  {
   "cell_type": "markdown",
   "metadata": {},
   "source": [
    "Now that you have a trained ARHMM, you can use it generate informative graphs and videos regarding the behavior syllables found, their usage frequency, and transition probabilities.\n",
    "\n",
    "The graph below shows the 4 operations that the MoSeq2-Viz module currently affords. They can also be computed in any order at this point in the notebook.\n",
    "\n",
    "<img src=\"https://github.com/dattalab/moseq2-app/blob/master/media/Viz_Pipeline.png?raw=true\">"
   ]
  },
  {
   "cell_type": "markdown",
   "metadata": {},
   "source": [
    "## Make Crowd Videos"
   ]
  },
  {
   "cell_type": "markdown",
   "metadata": {},
   "source": [
    "This tool allows you to create videos containing many overlayed clips of the mouse performing the same specified syllable at the moment a red dot appears on their body. The videos are sorted by most frequently expressed syllable to least.\n",
    "To create the crowd videos, run the following command:"
   ]
  },
  {
   "cell_type": "code",
   "execution_count": null,
   "metadata": {},
   "outputs": [],
   "source": [
    "from moseq2_viz.gui import make_crowd_movies_command\n",
    "import os\n",
    "base_dir = './'\n",
    "index_filepath = 'moseq2-index.yaml'\n",
    "model_path = 'model.p'\n",
    "config_filepath = 'config.yaml'\n",
    "crowd_dir = os.path.join(base_dir, 'crowd_movies/') # output directory to save all movies in\n",
    "\n",
    "max_syllables, max_examples = 20, 20 # maximum number of syllables, and examples of each syllable in a video respectively\n",
    "\n",
    "make_crowd_movies_command(index_filepath, model_path, config_filepath, crowd_dir, max_syllables, max_examples)"
   ]
  },
  {
   "cell_type": "markdown",
   "metadata": {},
   "source": [
    "Once completed, you can find your crowd movies along with a metadata YAML file in your corresponding crowd directory. The metadata `info.yaml` file will contain model information pertaining to how these crowd videos were produced.\n",
    "```\n",
    ".\n",
    "├── _pca/ \n",
    "├── aggregate_results/ \n",
    "├── config.yaml\n",
    "├── crowd_movies/ **\n",
    "├   ├── info.yaml **\n",
    "├   ├── syllable_sorted_44 (usage).mp4 **\n",
    "├   ...\n",
    "├   └── syllable_sorted_12 (usage).mp4 **\n",
    "├── model.p \n",
    "├── moseq2-index.yaml\n",
    "├── MoSeq2-Notebook.ipynb\n",
    "├── session_1/\n",
    "└── session_2/\n",
    "```"
   ]
  },
  {
   "cell_type": "markdown",
   "metadata": {},
   "source": [
    "View your generated crowd movies below:"
   ]
  },
  {
   "cell_type": "code",
   "execution_count": null,
   "metadata": {},
   "outputs": [],
   "source": [
    "from IPython.display import display, Video\n",
    "from glob import glob\n",
    "\n",
    "videos = glob(os.path.join(crowd_dir, '*.mp4'))\n",
    "vids = [Video(vid) for vid in videos]\n",
    "[display(vid) for vid in vids]"
   ]
  },
  {
   "cell_type": "markdown",
   "metadata": {},
   "source": [
    "## Compute Usage Plots"
   ]
  },
  {
   "cell_type": "markdown",
   "metadata": {},
   "source": [
    "Use this command to compute the model-detected syllables usages sorted in descending order of usage.\n",
    "\n",
    "__Note for plotting multiple groups: remember to include all group names in the tuple to graph them.__"
   ]
  },
  {
   "cell_type": "code",
   "execution_count": null,
   "metadata": {},
   "outputs": [],
   "source": [
    "from moseq2_viz.gui import plot_usages_command\n",
    "\n",
    "sort = True\n",
    "count = 'usage'\n",
    "max_used_syllable = max_syllables - 1 \n",
    "groups = ('group1', 'group2')\n",
    "output_file = 'usages'\n",
    "\n",
    "plot_usages_command(index_filepath, model_path, sort, count, max_syllables, groups, output_file)"
   ]
  },
  {
   "cell_type": "markdown",
   "metadata": {},
   "source": [
    "## Compute Scalar Summary and Tracking Plots"
   ]
  },
  {
   "cell_type": "markdown",
   "metadata": {},
   "source": [
    "Use the following command to compute some scalar summary information about your modeled groups, such as average velocity, height, etc.\n",
    "This command will also generate a tracking summary plot; depicting the path traveled by the mouse in your recordings."
   ]
  },
  {
   "cell_type": "code",
   "execution_count": null,
   "metadata": {},
   "outputs": [],
   "source": [
    "from moseq2_viz.gui import plot_scalar_summary_command\n",
    "\n",
    "output_file = 'scalars' # prefix name of the saved scalar position and summary graphs\n",
    "\n",
    "plot_scalar_summary_command(index_filepath, output_file)"
   ]
  },
  {
   "cell_type": "markdown",
   "metadata": {},
   "source": [
    "Graph your output:"
   ]
  },
  {
   "cell_type": "code",
   "execution_count": null,
   "metadata": {},
   "outputs": [],
   "source": [
    "from IPython.display import display, Image\n",
    "from glob import glob\n",
    "\n",
    "images = glob('scalars_*.png')\n",
    "ims = [Image(im) for im in images]\n",
    "[display(im) for im in ims]"
   ]
  },
  {
   "cell_type": "markdown",
   "metadata": {},
   "source": [
    "## Compute Syllable Transition Graph"
   ]
  },
  {
   "cell_type": "markdown",
   "metadata": {},
   "source": [
    "Use the following command to generate a syllable transition graph. The graph will be comprised of nodes labelled by syllable, and edges depicting a probable transition, with edge thickness depicting the weight of the transition edge.\n",
    "\n",
    "For multiple groups, there will be a transition graph for each group, as well as a unified graph with different colors to identify the groups. __Note: remember to include all group names in the tuple to graph them.__"
   ]
  },
  {
   "cell_type": "code",
   "execution_count": null,
   "metadata": {},
   "outputs": [],
   "source": [
    "from moseq2_viz.gui import plot_transition_graph_command\n",
    "\n",
    "max_syllable = 20 # Maximum number of nodes in the transition graph\n",
    "groups = ('group1', 'group2') # Group to graph, default if empty str\n",
    "output_filename = 'transition' # name of the png file to be saved\n",
    "\n",
    "plot_transition_graph_command(index_filepath, model_path, config_filepath, max_syllable, groups, output_filename)"
   ]
  },
  {
   "cell_type": "markdown",
   "metadata": {},
   "source": [
    "***\n",
    "<center><h1>Notebook End</h1></center>\n",
    "\n",
    "***"
   ]
  }
 ],
 "metadata": {
  "kernelspec": {
   "display_name": "Python 3",
   "language": "python",
   "name": "python3"
  },
  "language_info": {
   "codemirror_mode": {
    "name": "ipython",
    "version": 3
   },
   "file_extension": ".py",
   "mimetype": "text/x-python",
   "name": "python",
   "nbconvert_exporter": "python",
   "pygments_lexer": "ipython3",
   "version": "3.6.9"
  },
  "pycharm": {
   "stem_cell": {
    "cell_type": "raw",
    "metadata": {
     "collapsed": false
    },
    "source": []
   }
  }
 },
 "nbformat": 4,
 "nbformat_minor": 4
}
